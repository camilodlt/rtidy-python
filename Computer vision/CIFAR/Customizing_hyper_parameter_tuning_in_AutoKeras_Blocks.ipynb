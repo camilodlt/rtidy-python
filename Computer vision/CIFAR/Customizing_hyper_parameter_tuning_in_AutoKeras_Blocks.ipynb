{
  "nbformat": 4,
  "nbformat_minor": 0,
  "metadata": {
    "kernelspec": {
      "name": "python3",
      "display_name": "Python 3"
    },
    "colab": {
      "name": "Customizing hyper parameter tuning in AutoKeras Blocks",
      "provenance": [],
      "collapsed_sections": [],
      "include_colab_link": true
    },
    "language_info": {
      "name": "python"
    },
    "accelerator": "GPU"
  },
  "cells": [
    {
      "cell_type": "markdown",
      "metadata": {
        "id": "view-in-github",
        "colab_type": "text"
      },
      "source": [
        "<a href=\"https://colab.research.google.com/github/camilodlt/rtidy-python/blob/main/Computer%20vision/CIFAR/Customizing_hyper_parameter_tuning_in_AutoKeras_Blocks.ipynb\" target=\"_parent\"><img src=\"https://colab.research.google.com/assets/colab-badge.svg\" alt=\"Open In Colab\"/></a>"
      ]
    },
    {
      "cell_type": "markdown",
      "metadata": {
        "id": "Kg6jdqHeX436"
      },
      "source": [
        "## **Customizing AutoKeras Blocks**"
      ]
    },
    {
      "cell_type": "code",
      "metadata": {
        "id": "fY8DtJBvEFeJ"
      },
      "source": [
        "#%%capture\n",
        "#!pip install tensorflow==2.4.1\n",
        "#!pip install autokeras==1.0.12"
      ],
      "execution_count": 1,
      "outputs": []
    },
    {
      "cell_type": "code",
      "metadata": {
        "id": "Jchz-nPPUdjX"
      },
      "source": [
        "%%capture\n",
        "!pip install tensorflow==2.3.0\n",
        "!pip install autokeras==1.0.16\n",
        "!pip install keras_tuner==1.0.3"
      ],
      "execution_count": 2,
      "outputs": []
    },
    {
      "cell_type": "code",
      "metadata": {
        "colab": {
          "base_uri": "https://localhost:8080/",
          "height": 35
        },
        "id": "5fvqHBr-WUyx",
        "outputId": "a02130bf-06e5-4bee-fa32-076dab0d5bf6"
      },
      "source": [
        "import keras_tuner\n",
        "keras_tuner.__version__"
      ],
      "execution_count": 11,
      "outputs": [
        {
          "output_type": "execute_result",
          "data": {
            "application/vnd.google.colaboratory.intrinsic+json": {
              "type": "string"
            },
            "text/plain": [
              "'1.0.3'"
            ]
          },
          "metadata": {},
          "execution_count": 11
        }
      ]
    },
    {
      "cell_type": "code",
      "metadata": {
        "id": "jaJuq1j3Kgqi",
        "colab": {
          "base_uri": "https://localhost:8080/"
        },
        "outputId": "6e10be6f-0a93-495e-f891-5923cb908640"
      },
      "source": [
        "# import the python packages\n",
        "%matplotlib inline\n",
        "import matplotlib\n",
        "import matplotlib.pyplot as plt\n",
        "\n",
        "import tensorflow as tf\n",
        "tf.random.set_seed(42)\n",
        "from tensorflow.keras.datasets import mnist, cifar10\n",
        "from tensorflow import keras\n",
        "from tensorflow.keras import layers\n",
        "from tensorflow.keras import Model, Input\n",
        "from tensorflow.keras.layers import Layer, Dense, ReLU, Softmax, MaxPooling2D, Flatten, Conv2D\n",
        "\n",
        "import autokeras as ak\n",
        "\n",
        "from typing import Optional\n",
        "from typing import Union\n",
        "\n",
        "import tensorflow as tf\n",
        "from kerastuner.engine import hyperparameters\n",
        "from tensorflow.keras import applications\n",
        "from tensorflow.keras import layers\n",
        "from tensorflow.python.util import nest\n",
        "\n",
        "from autokeras import keras_layers\n",
        "from autokeras.blocks import reduction\n",
        "from autokeras.engine import block as block_module\n",
        "from autokeras.utils import layer_utils\n",
        "from autokeras.utils import utils\n",
        "\n",
        "print( \"tf.__version__:\", tf.__version__ )\n",
        "print( \"ak.__version__:\", ak.__version__ )"
      ],
      "execution_count": 12,
      "outputs": [
        {
          "output_type": "stream",
          "name": "stdout",
          "text": [
            "tf.__version__: 2.3.0\n",
            "ak.__version__: 1.0.16\n"
          ]
        }
      ]
    },
    {
      "cell_type": "markdown",
      "metadata": {
        "id": "H8VgmOn1-FKM"
      },
      "source": [
        "## Load and prepare cifar10 dataset"
      ]
    },
    {
      "cell_type": "markdown",
      "metadata": {
        "id": "do_q_MvdKgq4"
      },
      "source": [
        "#### Load dataset"
      ]
    },
    {
      "cell_type": "code",
      "metadata": {
        "id": "N7vfDd2jKgq7"
      },
      "source": [
        "# Load dataset\n",
        "(x_train, y_train), (x_test, y_test) = cifar10.load_data()\n",
        "\n",
        "from sklearn.utils import resample\n",
        "x_train, y_train = resample(x_train, y_train, n_samples=10000, replace=False, random_state=0)\n"
      ],
      "execution_count": 13,
      "outputs": []
    },
    {
      "cell_type": "markdown",
      "metadata": {
        "id": "EQQCIIPXKgw-"
      },
      "source": [
        "#### Prepare data"
      ]
    },
    {
      "cell_type": "code",
      "metadata": {
        "id": "7P9hmEeygAlo"
      },
      "source": [
        "# scale\n",
        "x_train = x_train.astype('float32') / 255.\n",
        "x_test = x_test.astype('float32') / 255.\n",
        "\n",
        "# reshape\n",
        "x_train = x_train.reshape(-1, 32, 32, 3)\n",
        "x_test = x_test.reshape(-1, 32, 32, 3)"
      ],
      "execution_count": 14,
      "outputs": []
    },
    {
      "cell_type": "markdown",
      "metadata": {
        "id": "zg2Q3RJ4Kgw_"
      },
      "source": [
        "## Customize a CNN AutoKeras Block\n"
      ]
    },
    {
      "cell_type": "code",
      "metadata": {
        "id": "RM3mOGCt_5xu"
      },
      "source": [
        "class myConvBlock(ak.Block):\n",
        "\n",
        "    def build(self, hp, inputs=None):\n",
        "        inputs = tf.nest.flatten(inputs)\n",
        "        input_node = inputs[0]\n",
        "        output_node = input_node\n",
        "\n",
        "        # Set a hyperparameter kernel_size, which is selected from [3, 7] wiht step 2.\n",
        "        kernel_size = hp.Int(name='kernel_size', min_value=3, max_value=7, step=2)\n",
        "        # Set a hyperparameter filters, which is selected from [32, 256] wiht step 32.\n",
        "        filters = hp.Int(name='n_filters', min_value=32, max_value=256, step=32)\n",
        "\n",
        "        # Use a Conv2D layer to process the inputs with the tunable hyperparameters kernel_size and filters\n",
        "        output_node= Conv2D(filters=filters, kernel_size= kernel_size)(input_node)\n",
        "        return output_node\n"
      ],
      "execution_count": 15,
      "outputs": []
    },
    {
      "cell_type": "markdown",
      "metadata": {
        "id": "CgkXZx_CrC-A"
      },
      "source": [
        "## Build a AutoML pipeline"
      ]
    },
    {
      "cell_type": "code",
      "metadata": {
        "id": "7YB1Rvp4KgxF"
      },
      "source": [
        "# keras tuner --- \n",
        "\n",
        "hp = keras_tuner.HyperParameters()\n",
        "\n",
        "# Model Arch --- \n",
        "inputs = ak.ImageInput()\n",
        "# Set the block ---\n",
        "inputs_tf = tf.keras.Input(shape=(32,32,3))\n",
        "myConvBlock().build(hp,inputs_tf)\n",
        "\n",
        "x = ak.Normalization()(inputs)\n",
        "x = ak.ImageAugmentation()(x)\n",
        "# Build an AutoML pipeline using the cusomized AutoKeras block myConvBlock \n",
        "x= myConvBlock()(x)\n",
        "x= myConvBlock()(x)\n",
        "x= myConvBlock()(x)\n",
        "x= myConvBlock()(x)\n",
        "\n",
        "# Classifier ---\n",
        "outputs = ak.ClassificationHead(dropout=0.3)(x)"
      ],
      "execution_count": 28,
      "outputs": []
    },
    {
      "cell_type": "markdown",
      "metadata": {
        "id": "eejvgL17pjLo"
      },
      "source": [
        "#### Search pipelines"
      ]
    },
    {
      "cell_type": "code",
      "metadata": {
        "colab": {
          "base_uri": "https://localhost:8080/"
        },
        "id": "nFogN2ZwpgYp",
        "outputId": "fc49f15d-2f20-4965-a7c5-068b355d2416"
      },
      "source": [
        "clf = ak.AutoModel(\n",
        "    inputs=inputs, \n",
        "    outputs=outputs,\n",
        "    max_trials=10,\n",
        "    overwrite=True,\n",
        "    seed=43,\n",
        "    tuner=\"greedy\")\n",
        "    # tuner=\"random\")\n",
        "\n",
        "\n",
        "clf.fit(x_train, y_train, epochs=3) # ,epochs=3, verbose=2\n",
        "clf.tuner.search_space_summary()"
      ],
      "execution_count": 29,
      "outputs": [
        {
          "output_type": "stream",
          "name": "stdout",
          "text": [
            "Trial 10 Complete [00h 00m 35s]\n",
            "val_loss: 1.400676965713501\n",
            "\n",
            "Best val_loss So Far: 1.3419710397720337\n",
            "Total elapsed time: 00h 06m 08s\n",
            "INFO:tensorflow:Oracle triggered exit\n",
            "Epoch 1/3\n",
            "1563/1563 [==============================] - 9s 6ms/step - loss: 1.6930 - accuracy: 0.3935\n",
            "Epoch 2/3\n",
            "1563/1563 [==============================] - 9s 6ms/step - loss: 1.4528 - accuracy: 0.4914\n",
            "Epoch 3/3\n",
            "1563/1563 [==============================] - 9s 6ms/step - loss: 1.3954 - accuracy: 0.5167\n",
            "INFO:tensorflow:Assets written to: ./auto_model/best_model/assets\n",
            "Search space summary\n",
            "Default search space size: 17\n",
            "image_augmentation_1/translation_factor (Choice)\n",
            "{'default': 0.0, 'conditions': [], 'values': [0.0, 0.1], 'ordered': True}\n",
            "image_augmentation_1/horizontal_flip (Boolean)\n",
            "{'default': True, 'conditions': []}\n",
            "image_augmentation_1/vertical_flip (Boolean)\n",
            "{'default': True, 'conditions': []}\n",
            "image_augmentation_1/rotation_factor (Choice)\n",
            "{'default': 0.0, 'conditions': [], 'values': [0.0, 0.1], 'ordered': True}\n",
            "image_augmentation_1/zoom_factor (Choice)\n",
            "{'default': 0.0, 'conditions': [], 'values': [0.0, 0.1], 'ordered': True}\n",
            "image_augmentation_1/contrast_factor (Choice)\n",
            "{'default': 0.0, 'conditions': [], 'values': [0.0, 0.1], 'ordered': True}\n",
            "my_conv_block_2/kernel_size (Int)\n",
            "{'default': None, 'conditions': [], 'min_value': 3, 'max_value': 7, 'step': 2, 'sampling': None}\n",
            "my_conv_block_2/n_filters (Int)\n",
            "{'default': None, 'conditions': [], 'min_value': 32, 'max_value': 256, 'step': 32, 'sampling': None}\n",
            "my_conv_block_3/kernel_size (Int)\n",
            "{'default': None, 'conditions': [], 'min_value': 3, 'max_value': 7, 'step': 2, 'sampling': None}\n",
            "my_conv_block_3/n_filters (Int)\n",
            "{'default': None, 'conditions': [], 'min_value': 32, 'max_value': 256, 'step': 32, 'sampling': None}\n",
            "my_conv_block_4/kernel_size (Int)\n",
            "{'default': None, 'conditions': [], 'min_value': 3, 'max_value': 7, 'step': 2, 'sampling': None}\n",
            "my_conv_block_4/n_filters (Int)\n",
            "{'default': None, 'conditions': [], 'min_value': 32, 'max_value': 256, 'step': 32, 'sampling': None}\n",
            "my_conv_block_5/kernel_size (Int)\n",
            "{'default': None, 'conditions': [], 'min_value': 3, 'max_value': 7, 'step': 2, 'sampling': None}\n",
            "my_conv_block_5/n_filters (Int)\n",
            "{'default': None, 'conditions': [], 'min_value': 32, 'max_value': 256, 'step': 32, 'sampling': None}\n",
            "classification_head_1/spatial_reduction_1/reduction_type (Choice)\n",
            "{'default': 'flatten', 'conditions': [], 'values': ['flatten', 'global_max', 'global_avg'], 'ordered': False}\n",
            "optimizer (Choice)\n",
            "{'default': 'adam', 'conditions': [], 'values': ['adam', 'sgd', 'adam_weight_decay'], 'ordered': False}\n",
            "learning_rate (Choice)\n",
            "{'default': 0.001, 'conditions': [], 'values': [0.1, 0.01, 0.001, 0.0001, 2e-05, 1e-05], 'ordered': True}\n"
          ]
        }
      ]
    },
    {
      "cell_type": "markdown",
      "metadata": {
        "id": "8baold73f1eM"
      },
      "source": [
        "## Retrain and explore model"
      ]
    },
    {
      "cell_type": "code",
      "metadata": {
        "colab": {
          "base_uri": "https://localhost:8080/"
        },
        "id": "TJ3TvhVTfzUa",
        "outputId": "545c40e3-1950-41e3-cf33-e7fd1d31169d"
      },
      "source": [
        "# Get the summarized results during the tuning process (return the best 10 models if existed)\n",
        "clf.tuner.results_summary()"
      ],
      "execution_count": 30,
      "outputs": [
        {
          "output_type": "stream",
          "name": "stdout",
          "text": [
            "Results summary\n",
            "Results in ./auto_model\n",
            "Showing 10 best trials\n",
            "Objective(name='val_loss', direction='min')\n",
            "Trial summary\n",
            "Hyperparameters:\n",
            "image_augmentation_1/translation_factor: 0.0\n",
            "image_augmentation_1/horizontal_flip: True\n",
            "image_augmentation_1/vertical_flip: False\n",
            "image_augmentation_1/rotation_factor: 0.0\n",
            "image_augmentation_1/zoom_factor: 0.1\n",
            "image_augmentation_1/contrast_factor: 0.0\n",
            "my_conv_block_2/kernel_size: 3\n",
            "my_conv_block_2/n_filters: 32\n",
            "my_conv_block_3/kernel_size: 3\n",
            "my_conv_block_3/n_filters: 32\n",
            "my_conv_block_4/kernel_size: 3\n",
            "my_conv_block_4/n_filters: 32\n",
            "my_conv_block_5/kernel_size: 3\n",
            "my_conv_block_5/n_filters: 256\n",
            "classification_head_1/spatial_reduction_1/reduction_type: global_max\n",
            "optimizer: adam\n",
            "learning_rate: 0.001\n",
            "Score: 1.3419710397720337\n",
            "Trial summary\n",
            "Hyperparameters:\n",
            "image_augmentation_1/translation_factor: 0.0\n",
            "image_augmentation_1/horizontal_flip: True\n",
            "image_augmentation_1/vertical_flip: False\n",
            "image_augmentation_1/rotation_factor: 0.0\n",
            "image_augmentation_1/zoom_factor: 0.1\n",
            "image_augmentation_1/contrast_factor: 0.0\n",
            "my_conv_block_2/kernel_size: 3\n",
            "my_conv_block_2/n_filters: 32\n",
            "my_conv_block_3/kernel_size: 3\n",
            "my_conv_block_3/n_filters: 32\n",
            "my_conv_block_4/kernel_size: 5\n",
            "my_conv_block_4/n_filters: 224\n",
            "my_conv_block_5/kernel_size: 3\n",
            "my_conv_block_5/n_filters: 256\n",
            "classification_head_1/spatial_reduction_1/reduction_type: global_max\n",
            "optimizer: adam\n",
            "learning_rate: 0.001\n",
            "Score: 1.3627283573150635\n",
            "Trial summary\n",
            "Hyperparameters:\n",
            "image_augmentation_1/translation_factor: 0.1\n",
            "image_augmentation_1/horizontal_flip: True\n",
            "image_augmentation_1/vertical_flip: False\n",
            "image_augmentation_1/rotation_factor: 0.0\n",
            "image_augmentation_1/zoom_factor: 0.1\n",
            "image_augmentation_1/contrast_factor: 0.0\n",
            "my_conv_block_2/kernel_size: 3\n",
            "my_conv_block_2/n_filters: 32\n",
            "my_conv_block_3/kernel_size: 3\n",
            "my_conv_block_3/n_filters: 32\n",
            "my_conv_block_4/kernel_size: 3\n",
            "my_conv_block_4/n_filters: 32\n",
            "my_conv_block_5/kernel_size: 3\n",
            "my_conv_block_5/n_filters: 256\n",
            "classification_head_1/spatial_reduction_1/reduction_type: global_max\n",
            "optimizer: adam\n",
            "learning_rate: 0.001\n",
            "Score: 1.373801589012146\n",
            "Trial summary\n",
            "Hyperparameters:\n",
            "image_augmentation_1/translation_factor: 0.0\n",
            "image_augmentation_1/horizontal_flip: True\n",
            "image_augmentation_1/vertical_flip: False\n",
            "image_augmentation_1/rotation_factor: 0.0\n",
            "image_augmentation_1/zoom_factor: 0.1\n",
            "image_augmentation_1/contrast_factor: 0.0\n",
            "my_conv_block_2/kernel_size: 3\n",
            "my_conv_block_2/n_filters: 32\n",
            "my_conv_block_3/kernel_size: 3\n",
            "my_conv_block_3/n_filters: 32\n",
            "my_conv_block_4/kernel_size: 3\n",
            "my_conv_block_4/n_filters: 32\n",
            "my_conv_block_5/kernel_size: 3\n",
            "my_conv_block_5/n_filters: 128\n",
            "classification_head_1/spatial_reduction_1/reduction_type: global_max\n",
            "optimizer: adam\n",
            "learning_rate: 0.001\n",
            "Score: 1.400676965713501\n",
            "Trial summary\n",
            "Hyperparameters:\n",
            "image_augmentation_1/translation_factor: 0.0\n",
            "image_augmentation_1/horizontal_flip: True\n",
            "image_augmentation_1/vertical_flip: False\n",
            "image_augmentation_1/rotation_factor: 0.0\n",
            "image_augmentation_1/zoom_factor: 0.1\n",
            "image_augmentation_1/contrast_factor: 0.0\n",
            "my_conv_block_2/kernel_size: 3\n",
            "my_conv_block_2/n_filters: 32\n",
            "my_conv_block_3/kernel_size: 3\n",
            "my_conv_block_3/n_filters: 32\n",
            "my_conv_block_4/kernel_size: 3\n",
            "my_conv_block_4/n_filters: 32\n",
            "my_conv_block_5/kernel_size: 3\n",
            "my_conv_block_5/n_filters: 32\n",
            "classification_head_1/spatial_reduction_1/reduction_type: global_max\n",
            "optimizer: adam\n",
            "learning_rate: 0.001\n",
            "Score: 1.5514075756072998\n",
            "Trial summary\n",
            "Hyperparameters:\n",
            "image_augmentation_1/translation_factor: 0.0\n",
            "image_augmentation_1/horizontal_flip: True\n",
            "image_augmentation_1/vertical_flip: False\n",
            "image_augmentation_1/rotation_factor: 0.0\n",
            "image_augmentation_1/zoom_factor: 0.1\n",
            "image_augmentation_1/contrast_factor: 0.0\n",
            "my_conv_block_2/kernel_size: 3\n",
            "my_conv_block_2/n_filters: 32\n",
            "my_conv_block_3/kernel_size: 3\n",
            "my_conv_block_3/n_filters: 32\n",
            "my_conv_block_4/kernel_size: 3\n",
            "my_conv_block_4/n_filters: 32\n",
            "my_conv_block_5/kernel_size: 3\n",
            "my_conv_block_5/n_filters: 32\n",
            "classification_head_1/spatial_reduction_1/reduction_type: flatten\n",
            "optimizer: adam\n",
            "learning_rate: 0.001\n",
            "Score: 1.804027795791626\n",
            "Trial summary\n",
            "Hyperparameters:\n",
            "image_augmentation_1/translation_factor: 0.0\n",
            "image_augmentation_1/horizontal_flip: True\n",
            "image_augmentation_1/vertical_flip: False\n",
            "image_augmentation_1/rotation_factor: 0.0\n",
            "image_augmentation_1/zoom_factor: 0.0\n",
            "image_augmentation_1/contrast_factor: 0.0\n",
            "my_conv_block_2/kernel_size: 3\n",
            "my_conv_block_2/n_filters: 32\n",
            "my_conv_block_3/kernel_size: 3\n",
            "my_conv_block_3/n_filters: 32\n",
            "my_conv_block_4/kernel_size: 3\n",
            "my_conv_block_4/n_filters: 32\n",
            "my_conv_block_5/kernel_size: 3\n",
            "my_conv_block_5/n_filters: 32\n",
            "classification_head_1/spatial_reduction_1/reduction_type: flatten\n",
            "optimizer: adam\n",
            "learning_rate: 0.001\n",
            "Score: 1.8113301992416382\n",
            "Trial summary\n",
            "Hyperparameters:\n",
            "image_augmentation_1/translation_factor: 0.0\n",
            "image_augmentation_1/horizontal_flip: True\n",
            "image_augmentation_1/vertical_flip: False\n",
            "image_augmentation_1/rotation_factor: 0.0\n",
            "image_augmentation_1/zoom_factor: 0.1\n",
            "image_augmentation_1/contrast_factor: 0.0\n",
            "my_conv_block_2/kernel_size: 5\n",
            "my_conv_block_2/n_filters: 32\n",
            "my_conv_block_3/kernel_size: 3\n",
            "my_conv_block_3/n_filters: 32\n",
            "my_conv_block_4/kernel_size: 3\n",
            "my_conv_block_4/n_filters: 32\n",
            "my_conv_block_5/kernel_size: 3\n",
            "my_conv_block_5/n_filters: 32\n",
            "classification_head_1/spatial_reduction_1/reduction_type: flatten\n",
            "optimizer: adam\n",
            "learning_rate: 0.001\n",
            "Score: 1.8185992240905762\n",
            "Trial summary\n",
            "Hyperparameters:\n",
            "image_augmentation_1/translation_factor: 0.0\n",
            "image_augmentation_1/horizontal_flip: True\n",
            "image_augmentation_1/vertical_flip: True\n",
            "image_augmentation_1/rotation_factor: 0.0\n",
            "image_augmentation_1/zoom_factor: 0.0\n",
            "image_augmentation_1/contrast_factor: 0.0\n",
            "my_conv_block_2/kernel_size: 3\n",
            "my_conv_block_2/n_filters: 32\n",
            "my_conv_block_3/kernel_size: 3\n",
            "my_conv_block_3/n_filters: 32\n",
            "my_conv_block_4/kernel_size: 3\n",
            "my_conv_block_4/n_filters: 32\n",
            "my_conv_block_5/kernel_size: 3\n",
            "my_conv_block_5/n_filters: 32\n",
            "classification_head_1/spatial_reduction_1/reduction_type: flatten\n",
            "optimizer: adam\n",
            "learning_rate: 0.001\n",
            "Score: 1.9552513360977173\n",
            "Trial summary\n",
            "Hyperparameters:\n",
            "image_augmentation_1/translation_factor: 0.0\n",
            "image_augmentation_1/horizontal_flip: True\n",
            "image_augmentation_1/vertical_flip: True\n",
            "image_augmentation_1/rotation_factor: 0.0\n",
            "image_augmentation_1/zoom_factor: 0.0\n",
            "image_augmentation_1/contrast_factor: 0.0\n",
            "my_conv_block_2/kernel_size: 3\n",
            "my_conv_block_2/n_filters: 32\n",
            "my_conv_block_3/kernel_size: 3\n",
            "my_conv_block_3/n_filters: 32\n",
            "my_conv_block_4/kernel_size: 3\n",
            "my_conv_block_4/n_filters: 128\n",
            "my_conv_block_5/kernel_size: 3\n",
            "my_conv_block_5/n_filters: 32\n",
            "classification_head_1/spatial_reduction_1/reduction_type: flatten\n",
            "optimizer: adam\n",
            "learning_rate: 0.001\n",
            "Score: 1.9589130878448486\n"
          ]
        }
      ]
    },
    {
      "cell_type": "code",
      "metadata": {
        "colab": {
          "base_uri": "https://localhost:8080/"
        },
        "id": "7Zx_is2SGY1h",
        "outputId": "061bbdfe-05ab-4b4d-8004-7458f1f285d1"
      },
      "source": [
        "#Retrieve best model\n",
        "best_model = clf.export_model()\n",
        "best_model.summary()"
      ],
      "execution_count": 31,
      "outputs": [
        {
          "output_type": "stream",
          "name": "stdout",
          "text": [
            "Model: \"functional_1\"\n",
            "_________________________________________________________________\n",
            "Layer (type)                 Output Shape              Param #   \n",
            "=================================================================\n",
            "input_1 (InputLayer)         [(None, 32, 32, 3)]       0         \n",
            "_________________________________________________________________\n",
            "cast_to_float32 (CastToFloat (None, 32, 32, 3)         0         \n",
            "_________________________________________________________________\n",
            "normalization (Normalization (None, 32, 32, 3)         7         \n",
            "_________________________________________________________________\n",
            "random_flip (RandomFlip)     (None, 32, 32, 3)         0         \n",
            "_________________________________________________________________\n",
            "conv2d (Conv2D)              (None, 30, 30, 32)        896       \n",
            "_________________________________________________________________\n",
            "conv2d_1 (Conv2D)            (None, 28, 28, 32)        9248      \n",
            "_________________________________________________________________\n",
            "conv2d_2 (Conv2D)            (None, 26, 26, 32)        9248      \n",
            "_________________________________________________________________\n",
            "conv2d_3 (Conv2D)            (None, 24, 24, 256)       73984     \n",
            "_________________________________________________________________\n",
            "global_max_pooling2d (Global (None, 256)               0         \n",
            "_________________________________________________________________\n",
            "dropout (Dropout)            (None, 256)               0         \n",
            "_________________________________________________________________\n",
            "dense (Dense)                (None, 10)                2570      \n",
            "_________________________________________________________________\n",
            "classification_head_1 (Softm (None, 10)                0         \n",
            "=================================================================\n",
            "Total params: 95,953\n",
            "Trainable params: 95,946\n",
            "Non-trainable params: 7\n",
            "_________________________________________________________________\n"
          ]
        }
      ]
    },
    {
      "cell_type": "code",
      "metadata": {
        "id": "GD1CcNsteJH9",
        "colab": {
          "base_uri": "https://localhost:8080/",
          "height": 877
        },
        "outputId": "123864c0-339d-4b72-e36c-303ca94c5d64"
      },
      "source": [
        "# Converts a Keras model to dot format and plot an image\n",
        "tf.keras.utils.plot_model(best_model, show_layer_names=False, show_shapes=True, expand_nested=True, dpi=64)"
      ],
      "execution_count": 32,
      "outputs": [
        {
          "output_type": "execute_result",
          "data": {
            "image/png": "[encoded data removed]",
            "text/plain": [
              "<IPython.core.display.Image object>"
            ]
          },
          "metadata": {},
          "execution_count": 32
        }
      ]
    },
    {
      "cell_type": "markdown",
      "metadata": {
        "id": "e6S1h3JnV2Hi"
      },
      "source": [
        "#### Retrain the searched model"
      ]
    },
    {
      "cell_type": "code",
      "metadata": {
        "id": "Dvqr_JvCrNi2",
        "colab": {
          "base_uri": "https://localhost:8080/"
        },
        "outputId": "fc846c05-4a28-4888-b187-2fabf6ae80b7"
      },
      "source": [
        "(x_train, y_train), (x_test, y_test) =  cifar10.load_data()\n",
        "# scale\n",
        "x_train = x_train.astype('float32') / 255.\n",
        "x_test = x_test.astype('float32') / 255.\n",
        "\n",
        "# reshape\n",
        "x_train = x_train.reshape(-1, 32, 32, 3)\n",
        "x_test = x_test.reshape(-1, 32, 32, 3)\n",
        "print('Training image shape:', x_train.shape)\n",
        "print('Training label shape:', y_train.shape)\n",
        "print('Testing image shape:', x_test.shape)\n",
        "print('Testing label shape:', y_test.shape)\n",
        "\n",
        "# compile the model and train the model\n",
        "best_model.compile(optimizer='adam',\n",
        "              loss=tf.keras.losses.SparseCategoricalCrossentropy(),\n",
        "              metrics=['accuracy'])\n",
        "best_model.fit(x_train, y_train, epochs=10, batch_size=64, validation_split=0.20)"
      ],
      "execution_count": 33,
      "outputs": [
        {
          "output_type": "stream",
          "name": "stdout",
          "text": [
            "Training image shape: (50000, 32, 32, 3)\n",
            "Training label shape: (50000, 1)\n",
            "Testing image shape: (10000, 32, 32, 3)\n",
            "Testing label shape: (10000, 1)\n",
            "Epoch 1/10\n",
            "625/625 [==============================] - 5s 8ms/step - loss: 1.3202 - accuracy: 0.5425 - val_loss: 1.1754 - val_accuracy: 0.6044\n",
            "Epoch 2/10\n",
            "625/625 [==============================] - 5s 8ms/step - loss: 1.2790 - accuracy: 0.5612 - val_loss: 1.1634 - val_accuracy: 0.6108\n",
            "Epoch 3/10\n",
            "625/625 [==============================] - 5s 8ms/step - loss: 1.2718 - accuracy: 0.5647 - val_loss: 1.1389 - val_accuracy: 0.6158\n",
            "Epoch 4/10\n",
            "625/625 [==============================] - 5s 8ms/step - loss: 1.2518 - accuracy: 0.5708 - val_loss: 1.2160 - val_accuracy: 0.5895\n",
            "Epoch 5/10\n",
            "625/625 [==============================] - 5s 8ms/step - loss: 1.2432 - accuracy: 0.5739 - val_loss: 1.1995 - val_accuracy: 0.5918\n",
            "Epoch 6/10\n",
            "625/625 [==============================] - 5s 8ms/step - loss: 1.2309 - accuracy: 0.5757 - val_loss: 1.1498 - val_accuracy: 0.6110\n",
            "Epoch 7/10\n",
            "625/625 [==============================] - 5s 8ms/step - loss: 1.2219 - accuracy: 0.5795 - val_loss: 1.1303 - val_accuracy: 0.6221\n",
            "Epoch 8/10\n",
            "625/625 [==============================] - 5s 8ms/step - loss: 1.2081 - accuracy: 0.5853 - val_loss: 1.1532 - val_accuracy: 0.6141\n",
            "Epoch 9/10\n",
            "625/625 [==============================] - 5s 8ms/step - loss: 1.2067 - accuracy: 0.5872 - val_loss: 1.1902 - val_accuracy: 0.5949\n",
            "Epoch 10/10\n",
            "625/625 [==============================] - 5s 8ms/step - loss: 1.1968 - accuracy: 0.5889 - val_loss: 1.1139 - val_accuracy: 0.6230\n"
          ]
        },
        {
          "output_type": "execute_result",
          "data": {
            "text/plain": [
              "<tensorflow.python.keras.callbacks.History at 0x7fa332c930d0>"
            ]
          },
          "metadata": {},
          "execution_count": 33
        }
      ]
    },
    {
      "cell_type": "markdown",
      "metadata": {
        "id": "TFRe0zBOfSIz"
      },
      "source": [
        "#### Evaluate the searched model"
      ]
    },
    {
      "cell_type": "code",
      "metadata": {
        "id": "a4FoBTZygzr1"
      },
      "source": [
        "init=10\n",
        "inc= 4"
      ],
      "execution_count": 34,
      "outputs": []
    },
    {
      "cell_type": "code",
      "metadata": {
        "colab": {
          "base_uri": "https://localhost:8080/"
        },
        "id": "quN7gkQ4gziI",
        "outputId": "16f63dcf-4ed0-4d39-b62a-3cf8b773aab5"
      },
      "source": [
        "best_model.fit(x_train, y_train, epochs=init+inc, batch_size=64, validation_split=0.10, initial_epoch=init)\n",
        "init+=inc"
      ],
      "execution_count": 43,
      "outputs": [
        {
          "output_type": "stream",
          "name": "stdout",
          "text": [
            "Epoch 43/46\n",
            "704/704 [==============================] - 6s 8ms/step - loss: 1.0993 - accuracy: 0.6238 - val_loss: 1.0381 - val_accuracy: 0.6526\n",
            "Epoch 44/46\n",
            "704/704 [==============================] - 6s 8ms/step - loss: 1.0982 - accuracy: 0.6263 - val_loss: 1.0187 - val_accuracy: 0.6522\n",
            "Epoch 45/46\n",
            "704/704 [==============================] - 6s 8ms/step - loss: 1.0974 - accuracy: 0.6257 - val_loss: 1.0287 - val_accuracy: 0.6486\n",
            "Epoch 46/46\n",
            "704/704 [==============================] - 6s 8ms/step - loss: 1.1007 - accuracy: 0.6262 - val_loss: 1.0315 - val_accuracy: 0.6456\n"
          ]
        }
      ]
    },
    {
      "cell_type": "code",
      "metadata": {
        "id": "0x3nXzAxrVSf",
        "colab": {
          "base_uri": "https://localhost:8080/"
        },
        "outputId": "8ee3fc03-bc27-48ab-b244-1fa08bb0a75f"
      },
      "source": [
        "# evaluate the model\n",
        "test_loss, test_acc = best_model.evaluate(x_test, y_test, verbose=1)\n",
        "print('Test loss: ', test_loss)\n",
        "print('Test accuracy: ', test_acc)"
      ],
      "execution_count": 44,
      "outputs": [
        {
          "output_type": "stream",
          "name": "stdout",
          "text": [
            "313/313 [==============================] - 1s 3ms/step - loss: 1.0314 - accuracy: 0.6529\n",
            "Test loss:  1.031402349472046\n",
            "Test accuracy:  0.652899980545044\n"
          ]
        }
      ]
    },
    {
      "cell_type": "code",
      "metadata": {
        "id": "yIWcbyMpaAqU"
      },
      "source": [
        ""
      ],
      "execution_count": null,
      "outputs": []
    }
  ]
}