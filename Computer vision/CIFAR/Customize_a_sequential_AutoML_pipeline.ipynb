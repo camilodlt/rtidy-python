{
  "nbformat": 4,
  "nbformat_minor": 0,
  "metadata": {
    "kernelspec": {
      "name": "python3",
      "display_name": "Python 3"
    },
    "colab": {
      "name": "Customize a sequential AutoML pipeline",
      "provenance": [],
      "collapsed_sections": [],
      "include_colab_link": true
    },
    "language_info": {
      "name": "python"
    },
    "accelerator": "GPU"
  },
  "cells": [
    {
      "cell_type": "markdown",
      "metadata": {
        "id": "view-in-github",
        "colab_type": "text"
      },
      "source": [
        "<a href=\"https://colab.research.google.com/github/camilodlt/rtidy-python/blob/main/Computer%20vision/CIFAR/Customize_a_sequential_AutoML_pipeline.ipynb\" target=\"_parent\"><img src=\"https://colab.research.google.com/assets/colab-badge.svg\" alt=\"Open In Colab\"/></a>"
      ]
    },
    {
      "cell_type": "markdown",
      "metadata": {
        "id": "Kg6jdqHeX436"
      },
      "source": [
        "## **Customizing a Sequential AutoML Pipeline**\n"
      ]
    },
    {
      "cell_type": "markdown",
      "metadata": {
        "id": "xS9ABAa0PQW2"
      },
      "source": [
        "In this notebook, we will implement a pipeline to handle the image classification on the Cifar 10 dataset. \n",
        "\n",
        "1. Load and prepare cifar10 dataset\n",
        "3. Build a sequential AutoML pipeline\n",
        "3. Explore the searched model\n",
        "4. Retrain and evaluate searched model"
      ]
    },
    {
      "cell_type": "code",
      "metadata": {
        "id": "fY8DtJBvEFeJ"
      },
      "source": [
        "%%capture\n",
        "!pip install tensorflow==2.3.0\n",
        "!pip install autokeras==1.0.16\n",
        "!pip install keras_tuner==1.0.3\n"
      ],
      "execution_count": null,
      "outputs": []
    },
    {
      "cell_type": "code",
      "metadata": {
        "colab": {
          "base_uri": "https://localhost:8080/",
          "height": 35
        },
        "id": "UWTg_296COca",
        "outputId": "6e1d06f5-a869-4632-f160-33ac9d2cf570"
      },
      "source": [
        "import keras_tuner\n",
        "keras_tuner.__version__"
      ],
      "execution_count": null,
      "outputs": [
        {
          "output_type": "execute_result",
          "data": {
            "application/vnd.google.colaboratory.intrinsic+json": {
              "type": "string"
            },
            "text/plain": [
              "'1.0.3'"
            ]
          },
          "metadata": {},
          "execution_count": 15
        }
      ]
    },
    {
      "cell_type": "code",
      "metadata": {
        "id": "jaJuq1j3Kgqi",
        "colab": {
          "base_uri": "https://localhost:8080/"
        },
        "outputId": "5494b351-8263-49ad-9543-463cc649ec40"
      },
      "source": [
        "# import the python packages\n",
        "%matplotlib inline\n",
        "import matplotlib\n",
        "import matplotlib.pyplot as plt\n",
        "\n",
        "import tensorflow as tf\n",
        "tf.random.set_seed(42)\n",
        "from tensorflow.keras.datasets import mnist, cifar10\n",
        "from tensorflow import keras\n",
        "\n",
        "import autokeras as ak\n",
        "\n",
        "print( \"tf.__version__:\", tf.__version__ )\n",
        "print( \"ak.__version__:\", ak.__version__ )"
      ],
      "execution_count": null,
      "outputs": [
        {
          "output_type": "stream",
          "name": "stdout",
          "text": [
            "tf.__version__: 2.3.0\n",
            "ak.__version__: 1.0.16\n"
          ]
        }
      ]
    },
    {
      "cell_type": "code",
      "metadata": {
        "colab": {
          "base_uri": "https://localhost:8080/"
        },
        "id": "VcQafpNw2uNO",
        "outputId": "d38b4005-5f5a-40f0-d1aa-37011bbc0a35"
      },
      "source": [
        "!nvidia-smi"
      ],
      "execution_count": null,
      "outputs": [
        {
          "output_type": "stream",
          "name": "stdout",
          "text": [
            "Thu Sep 16 06:27:48 2021       \n",
            "+-----------------------------------------------------------------------------+\n",
            "| NVIDIA-SMI 470.63.01    Driver Version: 460.32.03    CUDA Version: 11.2     |\n",
            "|-------------------------------+----------------------+----------------------+\n",
            "| GPU  Name        Persistence-M| Bus-Id        Disp.A | Volatile Uncorr. ECC |\n",
            "| Fan  Temp  Perf  Pwr:Usage/Cap|         Memory-Usage | GPU-Util  Compute M. |\n",
            "|                               |                      |               MIG M. |\n",
            "|===============================+======================+======================|\n",
            "|   0  Tesla T4            Off  | 00000000:00:04.0 Off |                    0 |\n",
            "| N/A   34C    P8     9W /  70W |      3MiB / 15109MiB |      0%      Default |\n",
            "|                               |                      |                  N/A |\n",
            "+-------------------------------+----------------------+----------------------+\n",
            "                                                                               \n",
            "+-----------------------------------------------------------------------------+\n",
            "| Processes:                                                                  |\n",
            "|  GPU   GI   CI        PID   Type   Process name                  GPU Memory |\n",
            "|        ID   ID                                                   Usage      |\n",
            "|=============================================================================|\n",
            "|  No running processes found                                                 |\n",
            "+-----------------------------------------------------------------------------+\n"
          ]
        }
      ]
    },
    {
      "cell_type": "code",
      "metadata": {
        "colab": {
          "base_uri": "https://localhost:8080/"
        },
        "id": "cTQBZf_82wpM",
        "outputId": "32bd6aca-b08b-4d38-e6e2-e9af839d862f"
      },
      "source": [
        "\n",
        "import tensorflow as tf \n",
        "tf.config.list_physical_devices('GPU')"
      ],
      "execution_count": null,
      "outputs": [
        {
          "output_type": "execute_result",
          "data": {
            "text/plain": [
              "[PhysicalDevice(name='/physical_device:GPU:0', device_type='GPU')]"
            ]
          },
          "metadata": {},
          "execution_count": 18
        }
      ]
    },
    {
      "cell_type": "markdown",
      "metadata": {
        "id": "do_q_MvdKgq4"
      },
      "source": [
        "## Load dataset"
      ]
    },
    {
      "cell_type": "markdown",
      "metadata": {
        "id": "EQQCIIPXKgw-"
      },
      "source": [
        "#### Prepare data"
      ]
    },
    {
      "cell_type": "code",
      "metadata": {
        "id": "7P9hmEeygAlo",
        "colab": {
          "base_uri": "https://localhost:8080/"
        },
        "outputId": "de2d46c2-866f-41cf-d712-bdaee9f9c64d"
      },
      "source": [
        "# Load dataset\n",
        "(x_train, y_train), (x_test, y_test) = cifar10.load_data()\n",
        "\n",
        "# scale\n",
        "x_train = x_train.astype('float32') / 255.\n",
        "x_test = x_test.astype('float32') / 255.\n",
        "\n",
        "# reshape\n",
        "x_train = x_train.reshape(-1, 32, 32, 3)\n",
        "x_test = x_test.reshape(-1, 32, 32, 3)\n",
        "print('Training image shape:', x_train.shape)\n",
        "print('Training label shape:', y_train.shape)\n",
        "print('Testing image shape:', x_test.shape)\n",
        "print('Testing label shape:', y_test.shape)"
      ],
      "execution_count": null,
      "outputs": [
        {
          "output_type": "stream",
          "name": "stdout",
          "text": [
            "Training image shape: (50000, 32, 32, 3)\n",
            "Training label shape: (50000, 1)\n",
            "Testing image shape: (10000, 32, 32, 3)\n",
            "Testing label shape: (10000, 1)\n"
          ]
        }
      ]
    },
    {
      "cell_type": "code",
      "metadata": {
        "id": "N7vfDd2jKgq7",
        "colab": {
          "base_uri": "https://localhost:8080/"
        },
        "outputId": "ef196299-5d0d-4740-d4c7-d3dd66bf4fcf"
      },
      "source": [
        "# Sample the Dataset ------\n",
        "from sklearn.utils import resample\n",
        "x_train_sampled, y_train_sampled = resample(x_train, y_train, n_samples=10000, replace=False, random_state=0)\n",
        "\n",
        "print('Training image shape:', x_train_sampled.shape)\n",
        "print('Training label shape:', y_train_sampled.shape)\n",
        "print('Testing image shape:', x_test.shape)\n",
        "print('Testing label shape:', y_test.shape)"
      ],
      "execution_count": null,
      "outputs": [
        {
          "output_type": "stream",
          "name": "stdout",
          "text": [
            "Training image shape: (10000, 32, 32, 3)\n",
            "Training label shape: (10000, 1)\n",
            "Testing image shape: (10000, 32, 32, 3)\n",
            "Testing label shape: (10000, 1)\n"
          ]
        }
      ]
    },
    {
      "cell_type": "markdown",
      "metadata": {
        "id": "zg2Q3RJ4Kgw_"
      },
      "source": [
        "## Build a sequential AutoML pipeline"
      ]
    },
    {
      "cell_type": "markdown",
      "metadata": {
        "id": "CgkXZx_CrC-A"
      },
      "source": [
        "#### Build sequential model with Functional API"
      ]
    },
    {
      "cell_type": "code",
      "metadata": {
        "id": "7YB1Rvp4KgxF"
      },
      "source": [
        "hp = keras_tuner.HyperParameters()\n",
        "num_blocks=keras_tuner.engine.hyperparameters.Choice(\"num_blocks\",values=[2])\n",
        "num_layers=keras_tuner.engine.hyperparameters.Choice(\"num_layers\",values=[1])\n",
        "\n",
        "inputs = ak.ImageInput()\n",
        "x = ak.Normalization()(inputs)\n",
        "x = ak.ImageAugmentation()(x)\n",
        "# Build a sequential AutoML pipeline using multiple AutoKeras built-in blocks(ak.ConvBlock).\n",
        "x = ak.ConvBlock(num_blocks=num_blocks,\n",
        "                 num_layers=num_layers,\n",
        "                 name= \"CNN1\")(x) \n",
        "x = ak.ConvBlock(num_blocks=num_blocks,\n",
        "                 num_layers=num_layers,\n",
        "                 name= \"CNN2\")(x) \n",
        "x = ak.ConvBlock(num_blocks=num_blocks,\n",
        "                 num_layers=num_layers,\n",
        "                 name= \"CNN3\")(x) \n",
        "\n",
        "outputs = ak.ClassificationHead(dropout=0.0)(x)"
      ],
      "execution_count": null,
      "outputs": []
    },
    {
      "cell_type": "markdown",
      "metadata": {
        "id": "eejvgL17pjLo"
      },
      "source": [
        "#### Search pipelines"
      ]
    },
    {
      "cell_type": "code",
      "metadata": {
        "colab": {
          "base_uri": "https://localhost:8080/"
        },
        "id": "nFogN2ZwpgYp",
        "outputId": "8a6cc300-3e9f-4228-9916-52280722ea3b"
      },
      "source": [
        "clf = ak.AutoModel(\n",
        "    inputs=inputs, \n",
        "    outputs=outputs,\n",
        "    project_name= \"Pipeline_1\",\n",
        "    max_trials=10,\n",
        "    overwrite=True,\n",
        "    objective= \"val_accuracy\")\n",
        "\n",
        "clf.fit(x_train_sampled, y_train_sampled, epochs=20) # ,epochs=3, verbose=2"
      ],
      "execution_count": null,
      "outputs": [
        {
          "output_type": "stream",
          "name": "stdout",
          "text": [
            "Trial 10 Complete [00h 00m 51s]\n",
            "val_accuracy: 0.5309959053993225\n",
            "\n",
            "Best val_accuracy So Far: 0.5609756112098694\n",
            "Total elapsed time: 00h 08m 07s\n",
            "INFO:tensorflow:Oracle triggered exit\n",
            "Epoch 1/20\n",
            "313/313 [==============================] - 2s 7ms/step - loss: 2.1454 - accuracy: 0.1665\n",
            "Epoch 2/20\n",
            "313/313 [==============================] - 2s 6ms/step - loss: 1.9196 - accuracy: 0.2447\n",
            "Epoch 3/20\n",
            "313/313 [==============================] - 2s 6ms/step - loss: 1.7953 - accuracy: 0.3025\n",
            "Epoch 4/20\n",
            "313/313 [==============================] - 2s 6ms/step - loss: 1.7234 - accuracy: 0.3299\n",
            "Epoch 5/20\n",
            "313/313 [==============================] - 2s 6ms/step - loss: 1.6664 - accuracy: 0.3565\n",
            "Epoch 6/20\n",
            "313/313 [==============================] - 2s 7ms/step - loss: 1.5990 - accuracy: 0.3814\n",
            "Epoch 7/20\n",
            "313/313 [==============================] - 2s 6ms/step - loss: 1.5521 - accuracy: 0.4021\n",
            "Epoch 8/20\n",
            "313/313 [==============================] - 2s 6ms/step - loss: 1.4928 - accuracy: 0.4376\n",
            "Epoch 9/20\n",
            "313/313 [==============================] - 2s 7ms/step - loss: 1.4409 - accuracy: 0.4604\n",
            "Epoch 10/20\n",
            "313/313 [==============================] - 2s 6ms/step - loss: 1.4023 - accuracy: 0.4701\n",
            "Epoch 11/20\n",
            "313/313 [==============================] - 2s 6ms/step - loss: 1.3445 - accuracy: 0.4984\n",
            "Epoch 12/20\n",
            "313/313 [==============================] - 2s 7ms/step - loss: 1.3140 - accuracy: 0.5113\n",
            "Epoch 13/20\n",
            "313/313 [==============================] - 2s 7ms/step - loss: 1.2766 - accuracy: 0.5303\n",
            "Epoch 14/20\n",
            "313/313 [==============================] - 2s 7ms/step - loss: 1.2519 - accuracy: 0.5407\n",
            "Epoch 15/20\n",
            "313/313 [==============================] - 2s 7ms/step - loss: 1.2220 - accuracy: 0.5531\n",
            "Epoch 16/20\n",
            "313/313 [==============================] - 2s 6ms/step - loss: 1.1717 - accuracy: 0.5740\n",
            "Epoch 17/20\n",
            "313/313 [==============================] - 2s 6ms/step - loss: 1.1508 - accuracy: 0.5863\n",
            "Epoch 18/20\n",
            "313/313 [==============================] - 2s 7ms/step - loss: 1.1162 - accuracy: 0.5960\n",
            "Epoch 19/20\n",
            "313/313 [==============================] - 2s 6ms/step - loss: 1.0806 - accuracy: 0.6106\n",
            "Epoch 20/20\n",
            "313/313 [==============================] - 2s 6ms/step - loss: 1.0605 - accuracy: 0.6205\n",
            "WARNING:tensorflow:From /usr/local/lib/python3.7/dist-packages/tensorflow/python/training/tracking/tracking.py:111: Model.state_updates (from tensorflow.python.keras.engine.training) is deprecated and will be removed in a future version.\n",
            "Instructions for updating:\n",
            "This property should not be used in TensorFlow 2.0, as updates are applied automatically.\n",
            "WARNING:tensorflow:From /usr/local/lib/python3.7/dist-packages/tensorflow/python/training/tracking/tracking.py:111: Layer.updates (from tensorflow.python.keras.engine.base_layer) is deprecated and will be removed in a future version.\n",
            "Instructions for updating:\n",
            "This property should not be used in TensorFlow 2.0, as updates are applied automatically.\n",
            "INFO:tensorflow:Assets written to: ./Pipeline_1/best_model/assets\n"
          ]
        },
        {
          "output_type": "execute_result",
          "data": {
            "text/plain": [
              "<tensorflow.python.keras.callbacks.History at 0x7ff5dc614490>"
            ]
          },
          "metadata": {},
          "execution_count": 46
        }
      ]
    },
    {
      "cell_type": "markdown",
      "metadata": {
        "id": "8baold73f1eM"
      },
      "source": [
        "## Explore Model"
      ]
    },
    {
      "cell_type": "code",
      "metadata": {
        "id": "TJ3TvhVTfzUa",
        "colab": {
          "base_uri": "https://localhost:8080/"
        },
        "outputId": "9d45b7ab-ad8e-4485-92f6-8a03d3e1fb11"
      },
      "source": [
        "# Get the summarized results during the tuning process (return the best 10 models if existed)\n",
        "clf.tuner.results_summary()"
      ],
      "execution_count": null,
      "outputs": [
        {
          "output_type": "stream",
          "name": "stdout",
          "text": [
            "Results summary\n",
            "Results in ./Pipeline_1\n",
            "Showing 10 best trials\n",
            "Objective(name='val_accuracy', direction='max')\n",
            "Trial summary\n",
            "Hyperparameters:\n",
            "image_augmentation_1/translation_factor: 0.0\n",
            "image_augmentation_1/horizontal_flip: True\n",
            "image_augmentation_1/vertical_flip: True\n",
            "image_augmentation_1/rotation_factor: 0.0\n",
            "image_augmentation_1/zoom_factor: 0.0\n",
            "image_augmentation_1/contrast_factor: 0.0\n",
            "CNN1/kernel_size: 3\n",
            "CNN1/separable: False\n",
            "CNN1/max_pooling: True\n",
            "CNN1/dropout: 0\n",
            "CNN1/num_blocks: 2\n",
            "CNN1/num_layers: 1\n",
            "CNN1/filters_0_0: 32\n",
            "CNN1/filters_1_0: 256\n",
            "CNN2/kernel_size: 7\n",
            "CNN2/separable: False\n",
            "CNN2/max_pooling: True\n",
            "CNN2/dropout: 0\n",
            "CNN2/num_blocks: 2\n",
            "CNN2/num_layers: 1\n",
            "CNN2/filters_0_0: 32\n",
            "CNN2/filters_1_0: 32\n",
            "CNN3/kernel_size: 3\n",
            "CNN3/separable: False\n",
            "CNN3/max_pooling: True\n",
            "CNN3/dropout: 0.25\n",
            "CNN3/num_blocks: 2\n",
            "CNN3/num_layers: 1\n",
            "CNN3/filters_0_0: 32\n",
            "CNN3/filters_1_0: 32\n",
            "classification_head_1/spatial_reduction_1/reduction_type: flatten\n",
            "optimizer: adam\n",
            "learning_rate: 0.001\n",
            "Score: 0.5609756112098694\n",
            "Trial summary\n",
            "Hyperparameters:\n",
            "image_augmentation_1/translation_factor: 0.0\n",
            "image_augmentation_1/horizontal_flip: True\n",
            "image_augmentation_1/vertical_flip: True\n",
            "image_augmentation_1/rotation_factor: 0.0\n",
            "image_augmentation_1/zoom_factor: 0.0\n",
            "image_augmentation_1/contrast_factor: 0.0\n",
            "CNN1/kernel_size: 3\n",
            "CNN1/separable: False\n",
            "CNN1/max_pooling: True\n",
            "CNN1/dropout: 0\n",
            "CNN1/num_blocks: 2\n",
            "CNN1/num_layers: 1\n",
            "CNN1/filters_0_0: 32\n",
            "CNN1/filters_1_0: 256\n",
            "CNN2/kernel_size: 3\n",
            "CNN2/separable: False\n",
            "CNN2/max_pooling: True\n",
            "CNN2/dropout: 0\n",
            "CNN2/num_blocks: 2\n",
            "CNN2/num_layers: 1\n",
            "CNN2/filters_0_0: 32\n",
            "CNN2/filters_1_0: 32\n",
            "CNN3/kernel_size: 3\n",
            "CNN3/separable: False\n",
            "CNN3/max_pooling: True\n",
            "CNN3/dropout: 0.25\n",
            "CNN3/num_blocks: 2\n",
            "CNN3/num_layers: 1\n",
            "CNN3/filters_0_0: 32\n",
            "CNN3/filters_1_0: 32\n",
            "classification_head_1/spatial_reduction_1/reduction_type: flatten\n",
            "optimizer: adam\n",
            "learning_rate: 0.001\n",
            "Score: 0.545223593711853\n",
            "Trial summary\n",
            "Hyperparameters:\n",
            "image_augmentation_1/translation_factor: 0.0\n",
            "image_augmentation_1/horizontal_flip: True\n",
            "image_augmentation_1/vertical_flip: True\n",
            "image_augmentation_1/rotation_factor: 0.0\n",
            "image_augmentation_1/zoom_factor: 0.0\n",
            "image_augmentation_1/contrast_factor: 0.0\n",
            "CNN1/kernel_size: 3\n",
            "CNN1/separable: False\n",
            "CNN1/max_pooling: True\n",
            "CNN1/dropout: 0\n",
            "CNN1/num_blocks: 2\n",
            "CNN1/num_layers: 1\n",
            "CNN1/filters_0_0: 32\n",
            "CNN1/filters_1_0: 256\n",
            "CNN2/kernel_size: 7\n",
            "CNN2/separable: False\n",
            "CNN2/max_pooling: True\n",
            "CNN2/dropout: 0\n",
            "CNN2/num_blocks: 2\n",
            "CNN2/num_layers: 1\n",
            "CNN2/filters_0_0: 32\n",
            "CNN2/filters_1_0: 32\n",
            "CNN3/kernel_size: 3\n",
            "CNN3/separable: False\n",
            "CNN3/max_pooling: True\n",
            "CNN3/dropout: 0.25\n",
            "CNN3/num_blocks: 2\n",
            "CNN3/num_layers: 1\n",
            "CNN3/filters_0_0: 32\n",
            "CNN3/filters_1_0: 32\n",
            "classification_head_1/spatial_reduction_1/reduction_type: global_avg\n",
            "optimizer: adam\n",
            "learning_rate: 0.001\n",
            "Score: 0.5309959053993225\n",
            "Trial summary\n",
            "Hyperparameters:\n",
            "image_augmentation_1/translation_factor: 0.0\n",
            "image_augmentation_1/horizontal_flip: True\n",
            "image_augmentation_1/vertical_flip: True\n",
            "image_augmentation_1/rotation_factor: 0.0\n",
            "image_augmentation_1/zoom_factor: 0.0\n",
            "image_augmentation_1/contrast_factor: 0.0\n",
            "CNN1/kernel_size: 3\n",
            "CNN1/separable: False\n",
            "CNN1/max_pooling: True\n",
            "CNN1/dropout: 0\n",
            "CNN1/num_blocks: 2\n",
            "CNN1/num_layers: 1\n",
            "CNN1/filters_0_0: 32\n",
            "CNN1/filters_1_0: 32\n",
            "CNN2/kernel_size: 3\n",
            "CNN2/separable: False\n",
            "CNN2/max_pooling: True\n",
            "CNN2/dropout: 0\n",
            "CNN2/num_blocks: 2\n",
            "CNN2/num_layers: 1\n",
            "CNN2/filters_0_0: 32\n",
            "CNN2/filters_1_0: 32\n",
            "CNN3/kernel_size: 3\n",
            "CNN3/separable: False\n",
            "CNN3/max_pooling: True\n",
            "CNN3/dropout: 0.25\n",
            "CNN3/num_blocks: 2\n",
            "CNN3/num_layers: 1\n",
            "CNN3/filters_0_0: 32\n",
            "CNN3/filters_1_0: 32\n",
            "classification_head_1/spatial_reduction_1/reduction_type: flatten\n",
            "optimizer: adam\n",
            "learning_rate: 0.001\n",
            "Score: 0.514735758304596\n",
            "Trial summary\n",
            "Hyperparameters:\n",
            "image_augmentation_1/translation_factor: 0.0\n",
            "image_augmentation_1/horizontal_flip: True\n",
            "image_augmentation_1/vertical_flip: True\n",
            "image_augmentation_1/rotation_factor: 0.0\n",
            "image_augmentation_1/zoom_factor: 0.0\n",
            "image_augmentation_1/contrast_factor: 0.1\n",
            "CNN1/kernel_size: 3\n",
            "CNN1/separable: False\n",
            "CNN1/max_pooling: True\n",
            "CNN1/dropout: 0\n",
            "CNN1/num_blocks: 2\n",
            "CNN1/num_layers: 1\n",
            "CNN1/filters_0_0: 32\n",
            "CNN1/filters_1_0: 32\n",
            "CNN2/kernel_size: 3\n",
            "CNN2/separable: False\n",
            "CNN2/max_pooling: True\n",
            "CNN2/dropout: 0\n",
            "CNN2/num_blocks: 2\n",
            "CNN2/num_layers: 1\n",
            "CNN2/filters_0_0: 32\n",
            "CNN2/filters_1_0: 32\n",
            "CNN3/kernel_size: 3\n",
            "CNN3/separable: False\n",
            "CNN3/max_pooling: True\n",
            "CNN3/dropout: 0.25\n",
            "CNN3/num_blocks: 2\n",
            "CNN3/num_layers: 1\n",
            "CNN3/filters_0_0: 32\n",
            "CNN3/filters_1_0: 32\n",
            "classification_head_1/spatial_reduction_1/reduction_type: flatten\n",
            "optimizer: adam\n",
            "learning_rate: 0.001\n",
            "Score: 0.5091463327407837\n",
            "Trial summary\n",
            "Hyperparameters:\n",
            "image_augmentation_1/translation_factor: 0.0\n",
            "image_augmentation_1/horizontal_flip: True\n",
            "image_augmentation_1/vertical_flip: True\n",
            "image_augmentation_1/rotation_factor: 0.1\n",
            "image_augmentation_1/zoom_factor: 0.0\n",
            "image_augmentation_1/contrast_factor: 0.0\n",
            "CNN1/kernel_size: 3\n",
            "CNN1/separable: False\n",
            "CNN1/max_pooling: True\n",
            "CNN1/dropout: 0\n",
            "CNN1/num_blocks: 2\n",
            "CNN1/num_layers: 1\n",
            "CNN1/filters_0_0: 32\n",
            "CNN1/filters_1_0: 32\n",
            "CNN2/kernel_size: 3\n",
            "CNN2/separable: False\n",
            "CNN2/max_pooling: True\n",
            "CNN2/dropout: 0\n",
            "CNN2/num_blocks: 2\n",
            "CNN2/num_layers: 1\n",
            "CNN2/filters_0_0: 32\n",
            "CNN2/filters_1_0: 32\n",
            "CNN3/kernel_size: 3\n",
            "CNN3/separable: False\n",
            "CNN3/max_pooling: True\n",
            "CNN3/dropout: 0.25\n",
            "CNN3/num_blocks: 2\n",
            "CNN3/num_layers: 1\n",
            "CNN3/filters_0_0: 32\n",
            "CNN3/filters_1_0: 32\n",
            "classification_head_1/spatial_reduction_1/reduction_type: flatten\n",
            "optimizer: adam\n",
            "learning_rate: 0.001\n",
            "Score: 0.47154471278190613\n",
            "Trial summary\n",
            "Hyperparameters:\n",
            "image_augmentation_1/translation_factor: 0.0\n",
            "image_augmentation_1/horizontal_flip: True\n",
            "image_augmentation_1/vertical_flip: True\n",
            "image_augmentation_1/rotation_factor: 0.0\n",
            "image_augmentation_1/zoom_factor: 0.0\n",
            "image_augmentation_1/contrast_factor: 0.0\n",
            "CNN1/kernel_size: 3\n",
            "CNN1/separable: False\n",
            "CNN1/max_pooling: True\n",
            "CNN1/dropout: 0\n",
            "CNN1/num_blocks: 2\n",
            "CNN1/num_layers: 1\n",
            "CNN1/filters_0_0: 32\n",
            "CNN1/filters_1_0: 256\n",
            "CNN2/kernel_size: 7\n",
            "CNN2/separable: False\n",
            "CNN2/max_pooling: True\n",
            "CNN2/dropout: 0\n",
            "CNN2/num_blocks: 2\n",
            "CNN2/num_layers: 1\n",
            "CNN2/filters_0_0: 32\n",
            "CNN2/filters_1_0: 32\n",
            "CNN3/kernel_size: 3\n",
            "CNN3/separable: True\n",
            "CNN3/max_pooling: True\n",
            "CNN3/dropout: 0.25\n",
            "CNN3/num_blocks: 2\n",
            "CNN3/num_layers: 1\n",
            "CNN3/filters_0_0: 32\n",
            "CNN3/filters_1_0: 32\n",
            "classification_head_1/spatial_reduction_1/reduction_type: flatten\n",
            "optimizer: adam\n",
            "learning_rate: 0.001\n",
            "Score: 0.4598577320575714\n",
            "Trial summary\n",
            "Hyperparameters:\n",
            "image_augmentation_1/translation_factor: 0.0\n",
            "image_augmentation_1/horizontal_flip: True\n",
            "image_augmentation_1/vertical_flip: True\n",
            "image_augmentation_1/rotation_factor: 0.0\n",
            "image_augmentation_1/zoom_factor: 0.0\n",
            "image_augmentation_1/contrast_factor: 0.0\n",
            "CNN1/kernel_size: 7\n",
            "CNN1/separable: False\n",
            "CNN1/max_pooling: True\n",
            "CNN1/dropout: 0\n",
            "CNN1/num_blocks: 2\n",
            "CNN1/num_layers: 1\n",
            "CNN1/filters_0_0: 32\n",
            "CNN1/filters_1_0: 256\n",
            "CNN2/kernel_size: 7\n",
            "CNN2/separable: False\n",
            "CNN2/max_pooling: True\n",
            "CNN2/dropout: 0\n",
            "CNN2/num_blocks: 2\n",
            "CNN2/num_layers: 1\n",
            "CNN2/filters_0_0: 32\n",
            "CNN2/filters_1_0: 32\n",
            "CNN3/kernel_size: 3\n",
            "CNN3/separable: False\n",
            "CNN3/max_pooling: True\n",
            "CNN3/dropout: 0.25\n",
            "CNN3/num_blocks: 2\n",
            "CNN3/num_layers: 1\n",
            "CNN3/filters_0_0: 32\n",
            "CNN3/filters_1_0: 32\n",
            "classification_head_1/spatial_reduction_1/reduction_type: flatten\n",
            "optimizer: adam\n",
            "learning_rate: 0.001\n",
            "Score: 0.44258129596710205\n",
            "Trial summary\n",
            "Hyperparameters:\n",
            "image_augmentation_1/translation_factor: 0.0\n",
            "image_augmentation_1/horizontal_flip: True\n",
            "image_augmentation_1/vertical_flip: True\n",
            "image_augmentation_1/rotation_factor: 0.0\n",
            "image_augmentation_1/zoom_factor: 0.0\n",
            "image_augmentation_1/contrast_factor: 0.0\n",
            "CNN1/kernel_size: 7\n",
            "CNN1/separable: False\n",
            "CNN1/max_pooling: True\n",
            "CNN1/dropout: 0\n",
            "CNN1/num_blocks: 2\n",
            "CNN1/num_layers: 1\n",
            "CNN1/filters_0_0: 32\n",
            "CNN1/filters_1_0: 32\n",
            "CNN2/kernel_size: 3\n",
            "CNN2/separable: False\n",
            "CNN2/max_pooling: True\n",
            "CNN2/dropout: 0\n",
            "CNN2/num_blocks: 2\n",
            "CNN2/num_layers: 1\n",
            "CNN2/filters_0_0: 32\n",
            "CNN2/filters_1_0: 32\n",
            "CNN3/kernel_size: 3\n",
            "CNN3/separable: False\n",
            "CNN3/max_pooling: True\n",
            "CNN3/dropout: 0.25\n",
            "CNN3/num_blocks: 2\n",
            "CNN3/num_layers: 1\n",
            "CNN3/filters_0_0: 32\n",
            "CNN3/filters_1_0: 32\n",
            "classification_head_1/spatial_reduction_1/reduction_type: flatten\n",
            "optimizer: adam\n",
            "learning_rate: 0.001\n",
            "Score: 0.44156503677368164\n",
            "Trial summary\n",
            "Hyperparameters:\n",
            "image_augmentation_1/translation_factor: 0.1\n",
            "image_augmentation_1/horizontal_flip: False\n",
            "image_augmentation_1/vertical_flip: True\n",
            "image_augmentation_1/rotation_factor: 0.0\n",
            "image_augmentation_1/zoom_factor: 0.1\n",
            "image_augmentation_1/contrast_factor: 0.1\n",
            "CNN1/kernel_size: 7\n",
            "CNN1/separable: False\n",
            "CNN1/max_pooling: False\n",
            "CNN1/dropout: 0.0\n",
            "CNN1/num_blocks: 2\n",
            "CNN1/num_layers: 1\n",
            "CNN1/filters_0_0: 16\n",
            "CNN1/filters_1_0: 128\n",
            "CNN2/kernel_size: 5\n",
            "CNN2/separable: False\n",
            "CNN2/max_pooling: False\n",
            "CNN2/dropout: 0.5\n",
            "CNN2/num_blocks: 2\n",
            "CNN2/num_layers: 1\n",
            "CNN2/filters_0_0: 16\n",
            "CNN2/filters_1_0: 32\n",
            "CNN3/kernel_size: 3\n",
            "CNN3/separable: True\n",
            "CNN3/max_pooling: False\n",
            "CNN3/dropout: 0.25\n",
            "CNN3/num_blocks: 2\n",
            "CNN3/num_layers: 1\n",
            "CNN3/filters_0_0: 64\n",
            "CNN3/filters_1_0: 32\n",
            "classification_head_1/spatial_reduction_1/reduction_type: global_avg\n",
            "optimizer: adam_weight_decay\n",
            "learning_rate: 1e-05\n",
            "Score: 0.19308942556381226\n"
          ]
        }
      ]
    },
    {
      "cell_type": "markdown",
      "metadata": {
        "id": "LtMIFoRz-nCT"
      },
      "source": [
        "Since it's a little long let's only see the best model. "
      ]
    },
    {
      "cell_type": "code",
      "metadata": {
        "id": "7Zx_is2SGY1h",
        "colab": {
          "base_uri": "https://localhost:8080/"
        },
        "outputId": "5d6cbe9c-c5af-46fd-b2c2-7eeeb60b9b21"
      },
      "source": [
        "#Retrieve best model\n",
        "best_model = clf.export_model()\n",
        "best_model.summary()"
      ],
      "execution_count": null,
      "outputs": [
        {
          "output_type": "stream",
          "name": "stdout",
          "text": [
            "Model: \"functional_1\"\n",
            "_________________________________________________________________\n",
            "Layer (type)                 Output Shape              Param #   \n",
            "=================================================================\n",
            "input_1 (InputLayer)         [(None, 32, 32, 3)]       0         \n",
            "_________________________________________________________________\n",
            "cast_to_float32 (CastToFloat (None, 32, 32, 3)         0         \n",
            "_________________________________________________________________\n",
            "normalization (Normalization (None, 32, 32, 3)         7         \n",
            "_________________________________________________________________\n",
            "random_flip (RandomFlip)     (None, 32, 32, 3)         0         \n",
            "_________________________________________________________________\n",
            "conv2d (Conv2D)              (None, 30, 30, 32)        896       \n",
            "_________________________________________________________________\n",
            "max_pooling2d (MaxPooling2D) (None, 15, 15, 32)        0         \n",
            "_________________________________________________________________\n",
            "conv2d_1 (Conv2D)            (None, 13, 13, 256)       73984     \n",
            "_________________________________________________________________\n",
            "max_pooling2d_1 (MaxPooling2 (None, 6, 6, 256)         0         \n",
            "_________________________________________________________________\n",
            "conv2d_2 (Conv2D)            (None, 6, 6, 32)          401440    \n",
            "_________________________________________________________________\n",
            "max_pooling2d_2 (MaxPooling2 (None, 1, 1, 32)          0         \n",
            "_________________________________________________________________\n",
            "conv2d_3 (Conv2D)            (None, 1, 1, 32)          50208     \n",
            "_________________________________________________________________\n",
            "max_pooling2d_3 (MaxPooling2 (None, 1, 1, 32)          0         \n",
            "_________________________________________________________________\n",
            "conv2d_4 (Conv2D)            (None, 1, 1, 32)          9248      \n",
            "_________________________________________________________________\n",
            "max_pooling2d_4 (MaxPooling2 (None, 1, 1, 32)          0         \n",
            "_________________________________________________________________\n",
            "dropout (Dropout)            (None, 1, 1, 32)          0         \n",
            "_________________________________________________________________\n",
            "conv2d_5 (Conv2D)            (None, 1, 1, 32)          9248      \n",
            "_________________________________________________________________\n",
            "max_pooling2d_5 (MaxPooling2 (None, 1, 1, 32)          0         \n",
            "_________________________________________________________________\n",
            "dropout_1 (Dropout)          (None, 1, 1, 32)          0         \n",
            "_________________________________________________________________\n",
            "flatten (Flatten)            (None, 32)                0         \n",
            "_________________________________________________________________\n",
            "dense (Dense)                (None, 10)                330       \n",
            "_________________________________________________________________\n",
            "classification_head_1 (Softm (None, 10)                0         \n",
            "=================================================================\n",
            "Total params: 545,361\n",
            "Trainable params: 545,354\n",
            "Non-trainable params: 7\n",
            "_________________________________________________________________\n"
          ]
        }
      ]
    },
    {
      "cell_type": "code",
      "metadata": {
        "id": "GD1CcNsteJH9",
        "colab": {
          "base_uri": "https://localhost:8080/",
          "height": 1000
        },
        "outputId": "ac180bda-bec9-4d50-c6f2-c75a30373312"
      },
      "source": [
        "# Converts a Keras model to dot format and plot an image\n",
        "tf.keras.utils.plot_model(best_model, show_layer_names=False, show_shapes=True, expand_nested=True, dpi=64)"
      ],
      "execution_count": null,
      "outputs": [
        {
          "output_type": "execute_result",
          "data": {
            "image/png": "[encoded data removed]",
            "text/plain": [
              "<IPython.core.display.Image object>"
            ]
          },
          "metadata": {},
          "execution_count": 54
        }
      ]
    },
    {
      "cell_type": "markdown",
      "metadata": {
        "id": "e6S1h3JnV2Hi"
      },
      "source": [
        "## Retrain and evaluate searched model"
      ]
    },
    {
      "cell_type": "code",
      "metadata": {
        "id": "Dvqr_JvCrNi2",
        "colab": {
          "base_uri": "https://localhost:8080/"
        },
        "outputId": "914dc473-72fd-474c-ed5b-ecc5b7813aa8"
      },
      "source": [
        "# compile the model and train the model\n",
        "best_model.compile(optimizer='adam',\n",
        "              loss=tf.keras.losses.SparseCategoricalCrossentropy(),\n",
        "              metrics=['accuracy'])\n",
        "\n",
        "best_model.fit(x_train, y_train, epochs=20, batch_size=64, validation_split=0.10)"
      ],
      "execution_count": null,
      "outputs": [
        {
          "output_type": "stream",
          "name": "stdout",
          "text": [
            "Epoch 1/20\n",
            "704/704 [==============================] - 5s 7ms/step - loss: 1.2363 - accuracy: 0.5618 - val_loss: 1.1023 - val_accuracy: 0.6056\n",
            "Epoch 2/20\n",
            "704/704 [==============================] - 5s 7ms/step - loss: 1.1683 - accuracy: 0.5915 - val_loss: 1.0706 - val_accuracy: 0.6188\n",
            "Epoch 3/20\n",
            "704/704 [==============================] - 5s 7ms/step - loss: 1.1184 - accuracy: 0.6116 - val_loss: 1.0249 - val_accuracy: 0.6292\n",
            "Epoch 4/20\n",
            "704/704 [==============================] - 5s 7ms/step - loss: 1.0781 - accuracy: 0.6254 - val_loss: 1.0088 - val_accuracy: 0.6462\n",
            "Epoch 5/20\n",
            "704/704 [==============================] - 5s 7ms/step - loss: 1.0413 - accuracy: 0.6421 - val_loss: 1.0159 - val_accuracy: 0.6436\n",
            "Epoch 6/20\n",
            "704/704 [==============================] - 5s 7ms/step - loss: 1.0034 - accuracy: 0.6544 - val_loss: 0.9564 - val_accuracy: 0.6592\n",
            "Epoch 7/20\n",
            "704/704 [==============================] - 5s 7ms/step - loss: 0.9794 - accuracy: 0.6648 - val_loss: 0.9642 - val_accuracy: 0.6572\n",
            "Epoch 8/20\n",
            "704/704 [==============================] - 5s 7ms/step - loss: 0.9442 - accuracy: 0.6761 - val_loss: 0.9753 - val_accuracy: 0.6610\n",
            "Epoch 9/20\n",
            "704/704 [==============================] - 5s 7ms/step - loss: 0.9248 - accuracy: 0.6790 - val_loss: 0.9273 - val_accuracy: 0.6694\n",
            "Epoch 10/20\n",
            "704/704 [==============================] - 5s 7ms/step - loss: 0.8990 - accuracy: 0.6923 - val_loss: 0.9155 - val_accuracy: 0.6828\n",
            "Epoch 11/20\n",
            "704/704 [==============================] - 5s 7ms/step - loss: 0.8839 - accuracy: 0.6982 - val_loss: 0.9026 - val_accuracy: 0.6860\n",
            "Epoch 12/20\n",
            "704/704 [==============================] - 5s 7ms/step - loss: 0.8619 - accuracy: 0.7025 - val_loss: 0.9078 - val_accuracy: 0.6866\n",
            "Epoch 13/20\n",
            "704/704 [==============================] - 5s 7ms/step - loss: 0.8470 - accuracy: 0.7108 - val_loss: 0.8969 - val_accuracy: 0.6956\n",
            "Epoch 14/20\n",
            "704/704 [==============================] - 5s 7ms/step - loss: 0.8272 - accuracy: 0.7180 - val_loss: 0.8942 - val_accuracy: 0.6948\n",
            "Epoch 15/20\n",
            "704/704 [==============================] - 5s 7ms/step - loss: 0.8073 - accuracy: 0.7222 - val_loss: 0.9004 - val_accuracy: 0.7016\n",
            "Epoch 16/20\n",
            "704/704 [==============================] - 5s 7ms/step - loss: 0.7921 - accuracy: 0.7287 - val_loss: 0.8964 - val_accuracy: 0.6972\n",
            "Epoch 17/20\n",
            "704/704 [==============================] - 5s 7ms/step - loss: 0.7724 - accuracy: 0.7371 - val_loss: 0.8920 - val_accuracy: 0.6996\n",
            "Epoch 18/20\n",
            "704/704 [==============================] - 5s 7ms/step - loss: 0.7690 - accuracy: 0.7364 - val_loss: 0.8736 - val_accuracy: 0.7002\n",
            "Epoch 19/20\n",
            "704/704 [==============================] - 5s 7ms/step - loss: 0.7569 - accuracy: 0.7426 - val_loss: 0.8991 - val_accuracy: 0.7048\n",
            "Epoch 20/20\n",
            "704/704 [==============================] - 5s 7ms/step - loss: 0.7447 - accuracy: 0.7475 - val_loss: 0.8683 - val_accuracy: 0.7060\n"
          ]
        },
        {
          "output_type": "execute_result",
          "data": {
            "text/plain": [
              "<tensorflow.python.keras.callbacks.History at 0x7ff5a93f7d50>"
            ]
          },
          "metadata": {},
          "execution_count": 55
        }
      ]
    },
    {
      "cell_type": "code",
      "metadata": {
        "id": "crU9Sv1iaIVA"
      },
      "source": [
        "init= 20"
      ],
      "execution_count": null,
      "outputs": []
    },
    {
      "cell_type": "code",
      "metadata": {
        "colab": {
          "base_uri": "https://localhost:8080/"
        },
        "id": "cUsX105GZ7VP",
        "outputId": "288828cb-0dcb-4905-acfd-32830b9cbe0b"
      },
      "source": [
        "best_model.fit(x_train, y_train, epochs=init+2, batch_size=64, validation_split=0.10, initial_epoch=init)\n",
        "init+=2"
      ],
      "execution_count": null,
      "outputs": [
        {
          "output_type": "stream",
          "name": "stdout",
          "text": [
            "Epoch 21/22\n",
            "704/704 [==============================] - 5s 7ms/step - loss: 0.7256 - accuracy: 0.7537 - val_loss: 0.8858 - val_accuracy: 0.7024\n",
            "Epoch 22/22\n",
            "704/704 [==============================] - 5s 7ms/step - loss: 0.7165 - accuracy: 0.7553 - val_loss: 0.9007 - val_accuracy: 0.6932\n"
          ]
        }
      ]
    },
    {
      "cell_type": "markdown",
      "metadata": {
        "id": "7o25bz3baff8"
      },
      "source": [
        "It already started overfitting."
      ]
    },
    {
      "cell_type": "markdown",
      "metadata": {
        "id": "TFRe0zBOfSIz"
      },
      "source": [
        "#### Evaluate the searched model"
      ]
    },
    {
      "cell_type": "code",
      "metadata": {
        "id": "0x3nXzAxrVSf",
        "colab": {
          "base_uri": "https://localhost:8080/"
        },
        "outputId": "ec8aede7-4564-4037-87e7-0a3fe41fb4af"
      },
      "source": [
        "# evaluate the model\n",
        "test_loss, test_acc = best_model.evaluate(x_test, y_test, verbose=1)\n",
        "print('Test loss: ', test_loss)\n",
        "print('Test accuracy: ', test_acc)"
      ],
      "execution_count": null,
      "outputs": [
        {
          "output_type": "stream",
          "name": "stdout",
          "text": [
            "313/313 [==============================] - 1s 3ms/step - loss: 0.9269 - accuracy: 0.6905\n",
            "Test loss:  0.9268772602081299\n",
            "Test accuracy:  0.690500020980835\n"
          ]
        }
      ]
    },
    {
      "cell_type": "code",
      "metadata": {
        "id": "YLrXqiSDaiV-"
      },
      "source": [
        ""
      ],
      "execution_count": null,
      "outputs": []
    }
  ]
}