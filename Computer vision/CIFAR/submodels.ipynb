{
  "nbformat": 4,
  "nbformat_minor": 0,
  "metadata": {
    "kernelspec": {
      "name": "python3",
      "display_name": "Python 3"
    },
    "colab": {
      "name": "Submodels",
      "provenance": [],
      "collapsed_sections": [],
      "include_colab_link": true
    },
    "language_info": {
      "name": "python"
    },
    "accelerator": "GPU"
  },
  "cells": [
    {
      "cell_type": "markdown",
      "metadata": {
        "id": "view-in-github",
        "colab_type": "text"
      },
      "source": [
        "<a href=\"https://colab.research.google.com/github/camilodlt/rtidy-python/blob/main/rtidy-python/Computer%20vision/CIFAR/Submodels.ipynb\" target=\"_parent\"><img src=\"https://colab.research.google.com/assets/colab-badge.svg\" alt=\"Open In Colab\"/></a>"
      ]
    },
    {
      "cell_type": "markdown",
      "metadata": {
        "id": "Kg6jdqHeX436"
      },
      "source": [
        "## **Customizing Graph-structured AutoML Pipeline** "
      ]
    },
    {
      "cell_type": "code",
      "metadata": {
        "id": "fY8DtJBvEFeJ"
      },
      "source": [
        "%%capture\n",
        "!pip install tensorflow==2.3.0\n",
        "!pip install autokeras==1.0.16\n",
        "!pip install keras_tuner==1.0.3"
      ],
      "execution_count": 1,
      "outputs": []
    },
    {
      "cell_type": "code",
      "metadata": {
        "colab": {
          "base_uri": "https://localhost:8080/",
          "height": 35
        },
        "id": "WnkDJ0u1WNwv",
        "outputId": "0f729cbc-e6cb-4d1d-857a-589e8ebb4269"
      },
      "source": [
        "import keras_tuner\n",
        "keras_tuner.__version__"
      ],
      "execution_count": 2,
      "outputs": [
        {
          "output_type": "execute_result",
          "data": {
            "application/vnd.google.colaboratory.intrinsic+json": {
              "type": "string"
            },
            "text/plain": [
              "'1.0.3'"
            ]
          },
          "metadata": {},
          "execution_count": 2
        }
      ]
    },
    {
      "cell_type": "code",
      "metadata": {
        "id": "jaJuq1j3Kgqi",
        "colab": {
          "base_uri": "https://localhost:8080/"
        },
        "outputId": "de0a6ee5-b547-4b1f-f07e-9e66e413f816"
      },
      "source": [
        "\n",
        "# import the python packages\n",
        "%matplotlib inline\n",
        "import matplotlib\n",
        "import matplotlib.pyplot as plt\n",
        "\n",
        "import tensorflow as tf\n",
        "tf.random.set_seed(42)\n",
        "from tensorflow.keras.datasets import mnist, cifar10\n",
        "from tensorflow import keras\n",
        "\n",
        "import autokeras as ak\n",
        "\n",
        "print( \"tf.__version__:\", tf.__version__ )\n",
        "print( \"ak.__version__:\", ak.__version__ )"
      ],
      "execution_count": 3,
      "outputs": [
        {
          "output_type": "stream",
          "name": "stdout",
          "text": [
            "tf.__version__: 2.3.0\n",
            "ak.__version__: 1.0.16\n"
          ]
        }
      ]
    },
    {
      "cell_type": "code",
      "metadata": {
        "id": "X6u7lJg1WRo2",
        "colab": {
          "base_uri": "https://localhost:8080/"
        },
        "outputId": "6b158988-b8ce-4d23-e371-5699f684222f"
      },
      "source": [
        "!nvidia-smi"
      ],
      "execution_count": 4,
      "outputs": [
        {
          "output_type": "stream",
          "name": "stdout",
          "text": [
            "Sun Sep 26 12:48:18 2021       \n",
            "+-----------------------------------------------------------------------------+\n",
            "| NVIDIA-SMI 470.63.01    Driver Version: 460.32.03    CUDA Version: 11.2     |\n",
            "|-------------------------------+----------------------+----------------------+\n",
            "| GPU  Name        Persistence-M| Bus-Id        Disp.A | Volatile Uncorr. ECC |\n",
            "| Fan  Temp  Perf  Pwr:Usage/Cap|         Memory-Usage | GPU-Util  Compute M. |\n",
            "|                               |                      |               MIG M. |\n",
            "|===============================+======================+======================|\n",
            "|   0  Tesla P100-PCIE...  Off  | 00000000:00:04.0 Off |                    0 |\n",
            "| N/A   37C    P0    27W / 250W |      0MiB / 16280MiB |      0%      Default |\n",
            "|                               |                      |                  N/A |\n",
            "+-------------------------------+----------------------+----------------------+\n",
            "                                                                               \n",
            "+-----------------------------------------------------------------------------+\n",
            "| Processes:                                                                  |\n",
            "|  GPU   GI   CI        PID   Type   Process name                  GPU Memory |\n",
            "|        ID   ID                                                   Usage      |\n",
            "|=============================================================================|\n",
            "|  No running processes found                                                 |\n",
            "+-----------------------------------------------------------------------------+\n"
          ]
        }
      ]
    },
    {
      "cell_type": "code",
      "metadata": {
        "id": "vxi6DrLfWUAM",
        "colab": {
          "base_uri": "https://localhost:8080/"
        },
        "outputId": "44a2479e-de2c-4527-f2e3-7ec829bd31d9"
      },
      "source": [
        "import tensorflow as tf \n",
        "tf.config.list_physical_devices('GPU')"
      ],
      "execution_count": 5,
      "outputs": [
        {
          "output_type": "execute_result",
          "data": {
            "text/plain": [
              "[PhysicalDevice(name='/physical_device:GPU:0', device_type='GPU')]"
            ]
          },
          "metadata": {},
          "execution_count": 5
        }
      ]
    },
    {
      "cell_type": "markdown",
      "metadata": {
        "id": "do_q_MvdKgq4"
      },
      "source": [
        "## Load dataset"
      ]
    },
    {
      "cell_type": "markdown",
      "metadata": {
        "id": "SM-oQweagI9E"
      },
      "source": [
        "#### Load cifar10 dataset"
      ]
    },
    {
      "cell_type": "code",
      "metadata": {
        "id": "N7vfDd2jKgq7",
        "colab": {
          "base_uri": "https://localhost:8080/"
        },
        "outputId": "68c43b2d-fe70-4df0-cf5c-3e291a628d01"
      },
      "source": [
        "# Load dataset\n",
        "(x_train, y_train), (x_test, y_test) = cifar10.load_data()\n",
        "\n",
        "# scale\n",
        "x_train = x_train.astype('float32') / 255.\n",
        "x_test = x_test.astype('float32') / 255.\n",
        "\n",
        "# reshape\n",
        "x_train = x_train.reshape(-1, 32, 32, 3)\n",
        "x_test = x_test.reshape(-1, 32, 32, 3)\n",
        "print('Training image shape:', x_train.shape)\n",
        "print('Training label shape:', y_train.shape)\n",
        "print('Testing image shape:', x_test.shape)\n",
        "print('Testing label shape:', y_test.shape)"
      ],
      "execution_count": 6,
      "outputs": [
        {
          "output_type": "stream",
          "name": "stdout",
          "text": [
            "Downloading data from https://www.cs.toronto.edu/~kriz/cifar-10-python.tar.gz\n",
            "170500096/170498071 [==============================] - 2s 0us/step\n",
            "Training image shape: (50000, 32, 32, 3)\n",
            "Training label shape: (50000, 1)\n",
            "Testing image shape: (10000, 32, 32, 3)\n",
            "Testing label shape: (10000, 1)\n"
          ]
        }
      ]
    },
    {
      "cell_type": "code",
      "metadata": {
        "colab": {
          "base_uri": "https://localhost:8080/"
        },
        "id": "QicwEGE8Wdxq",
        "outputId": "ced5ea2f-7e28-4569-adb4-3fb1f1bfde70"
      },
      "source": [
        "# Sample the Dataset ------\n",
        "from sklearn.utils import resample\n",
        "x_train_sampled, y_train_sampled = resample(x_train, y_train, n_samples=10000, replace=False, random_state=0)"
      ],
      "execution_count": 7,
      "outputs": [
        {
          "output_type": "stream",
          "name": "stdout",
          "text": [
            "Training image shape: (10000, 32, 32, 3)\n",
            "Training label shape: (10000, 1)\n",
            "Testing image shape: (10000, 32, 32, 3)\n",
            "Testing label shape: (10000, 1)\n"
          ]
        }
      ]
    },
    {
      "cell_type": "markdown",
      "metadata": {
        "id": "EQQCIIPXKgw-"
      },
      "source": [
        "#### Prepare data"
      ]
    },
    {
      "cell_type": "code",
      "metadata": {
        "id": "7P9hmEeygAlo"
      },
      "source": [
        "# scale\n",
        "x_train = x_train.astype('float32') / 255.\n",
        "x_test = x_test.astype('float32') / 255.\n",
        "\n",
        "# reshape\n",
        "x_train = x_train.reshape(-1, 32, 32, 3)\n",
        "x_test = x_test.reshape(-1, 32, 32, 3)"
      ],
      "execution_count": 8,
      "outputs": []
    },
    {
      "cell_type": "markdown",
      "metadata": {
        "id": "zg2Q3RJ4Kgw_"
      },
      "source": [
        "## Build the graph-structured deep learning model"
      ]
    },
    {
      "cell_type": "markdown",
      "metadata": {
        "id": "CgkXZx_CrC-A"
      },
      "source": [
        "#### Build model with Functional API"
      ]
    },
    {
      "cell_type": "code",
      "metadata": {
        "id": "V8yC3UPZR-cV"
      },
      "source": [
        "hp = keras_tuner.HyperParameters()\n",
        "num_blocks=keras_tuner.engine.hyperparameters.Choice(\"num_blocks\",values=[2])\n",
        "num_layers=keras_tuner.engine.hyperparameters.Choice(\"num_layers\",values=[1])\n",
        "\n",
        "inputs = ak.ImageInput()\n",
        "\n",
        "# Build a graph-structured AutoML pipeline\n",
        "\n",
        "# Branch 1\n",
        "branch1 = ak.Normalization()(inputs)\n",
        "branch1 = ak.ImageAugmentation()(branch1)\n",
        "branch1_outputs = ak.ConvBlock(num_blocks=num_blocks, num_layers=num_layers)(branch1)\n",
        "\n",
        "# Branch 2\n",
        "branch2 = ak.Normalization()(inputs)\n",
        "branch2 = ak.ImageAugmentation()(branch2)\n",
        "branch2 = ak.ConvBlock(num_blocks=num_blocks, num_layers=num_layers)(branch2)\n",
        "\n",
        "# Subbranch 1 of branch 2\n",
        "branch2_1 = ak.Normalization()(branch2)\n",
        "branch2_1 = ak.ConvBlock(num_blocks=num_blocks, num_layers=num_layers)(branch2_1)\n",
        "\n",
        "# Subbranch 2 of branch 2\n",
        "# Your code here\n",
        "branch2_2 = ak.Normalization()(branch2)\n",
        "branch2_2 = ak.ConvBlock(num_blocks=num_blocks, num_layers=num_layers)(branch2_2)\n",
        "\n",
        "# Merge subbranch 1 and 2\n",
        "branch2_outputs = ak.Merge()([branch2_1, branch2_2])\n",
        "\n",
        "# Merge branch 1 and 2\n",
        "outputs = ak.Merge()([branch1_outputs, branch2_outputs])\n",
        "\n",
        "outputs = ak.ClassificationHead()(outputs)"
      ],
      "execution_count": 9,
      "outputs": []
    },
    {
      "cell_type": "markdown",
      "metadata": {
        "id": "XjYkXQT8SCHp"
      },
      "source": [
        "#### Train model"
      ]
    },
    {
      "cell_type": "code",
      "metadata": {
        "id": "7YB1Rvp4KgxF",
        "colab": {
          "base_uri": "https://localhost:8080/"
        },
        "outputId": "8028d568-2437-49f4-9c50-4d55ced34317"
      },
      "source": [
        "clf = ak.AutoModel(\n",
        "    inputs=inputs, \n",
        "    outputs=outputs,\n",
        "    max_trials=3,\n",
        "    overwrite=True,\n",
        "    seed=42)\n",
        "\n",
        "clf.fit(x_train, y_train, epochs=3) # ,epochs=3, verbose=2"
      ],
      "execution_count": 22,
      "outputs": [
        {
          "output_type": "stream",
          "name": "stdout",
          "text": [
            "Trial 3 Complete [00h 00m 45s]\n",
            "val_loss: 1.2061964273452759\n",
            "\n",
            "Best val_loss So Far: 1.2061964273452759\n",
            "Total elapsed time: 00h 02m 15s\n",
            "INFO:tensorflow:Oracle triggered exit\n",
            "Epoch 1/3\n",
            "1563/1563 [==============================] - 12s 8ms/step - loss: 1.6087 - accuracy: 0.4047\n",
            "Epoch 2/3\n",
            "1563/1563 [==============================] - 12s 8ms/step - loss: 1.2905 - accuracy: 0.5335\n",
            "Epoch 3/3\n",
            "1563/1563 [==============================] - 12s 8ms/step - loss: 1.1565 - accuracy: 0.5883\n",
            "INFO:tensorflow:Assets written to: ./auto_model/best_model/assets\n"
          ]
        },
        {
          "output_type": "execute_result",
          "data": {
            "text/plain": [
              "<tensorflow.python.keras.callbacks.History at 0x7f6252e92ad0>"
            ]
          },
          "metadata": {},
          "execution_count": 22
        }
      ]
    },
    {
      "cell_type": "markdown",
      "metadata": {
        "id": "8baold73f1eM"
      },
      "source": [
        "## Explore Model"
      ]
    },
    {
      "cell_type": "code",
      "metadata": {
        "colab": {
          "base_uri": "https://localhost:8080/"
        },
        "id": "TJ3TvhVTfzUa",
        "outputId": "9e38fb2f-7794-4153-a841-cb28ecd8f04d"
      },
      "source": [
        "# Get the summarized results during the tuning process (return the best 10 models if existed)\n",
        "clf.tuner.results_summary()"
      ],
      "execution_count": 23,
      "outputs": [
        {
          "output_type": "stream",
          "name": "stdout",
          "text": [
            "Results summary\n",
            "Results in ./auto_model\n",
            "Showing 10 best trials\n",
            "Objective(name='val_loss', direction='min')\n",
            "Trial summary\n",
            "Hyperparameters:\n",
            "image_augmentation_1/translation_factor: 0.0\n",
            "image_augmentation_1/horizontal_flip: True\n",
            "image_augmentation_1/vertical_flip: True\n",
            "image_augmentation_1/rotation_factor: 0.0\n",
            "image_augmentation_1/zoom_factor: 0.0\n",
            "image_augmentation_1/contrast_factor: 0.0\n",
            "image_augmentation_2/translation_factor: 0.0\n",
            "image_augmentation_2/horizontal_flip: True\n",
            "image_augmentation_2/vertical_flip: True\n",
            "image_augmentation_2/rotation_factor: 0.0\n",
            "image_augmentation_2/zoom_factor: 0.0\n",
            "image_augmentation_2/contrast_factor: 0.0\n",
            "conv_block_1/kernel_size: 3\n",
            "conv_block_1/separable: False\n",
            "conv_block_1/max_pooling: True\n",
            "conv_block_1/dropout: 0\n",
            "conv_block_1/num_blocks: 2\n",
            "conv_block_1/num_layers: 1\n",
            "conv_block_1/filters_0_0: 512\n",
            "conv_block_1/filters_1_0: 32\n",
            "conv_block_2/kernel_size: 3\n",
            "conv_block_2/separable: False\n",
            "conv_block_2/max_pooling: True\n",
            "conv_block_2/dropout: 0\n",
            "conv_block_2/num_blocks: 2\n",
            "conv_block_2/num_layers: 1\n",
            "conv_block_2/filters_0_0: 32\n",
            "conv_block_2/filters_1_0: 32\n",
            "conv_block_3/kernel_size: 3\n",
            "conv_block_3/separable: False\n",
            "conv_block_3/max_pooling: True\n",
            "conv_block_3/dropout: 0\n",
            "conv_block_3/num_blocks: 2\n",
            "conv_block_3/num_layers: 1\n",
            "conv_block_3/filters_0_0: 32\n",
            "conv_block_3/filters_1_0: 32\n",
            "conv_block_4/kernel_size: 5\n",
            "conv_block_4/separable: False\n",
            "conv_block_4/max_pooling: True\n",
            "conv_block_4/dropout: 0\n",
            "conv_block_4/num_blocks: 2\n",
            "conv_block_4/num_layers: 1\n",
            "conv_block_4/filters_0_0: 32\n",
            "conv_block_4/filters_1_0: 32\n",
            "merge_1/merge_type: add\n",
            "classification_head_1/dropout: 0\n",
            "optimizer: adam\n",
            "learning_rate: 0.001\n",
            "Score: 1.2061964273452759\n",
            "Trial summary\n",
            "Hyperparameters:\n",
            "image_augmentation_1/translation_factor: 0.0\n",
            "image_augmentation_1/horizontal_flip: True\n",
            "image_augmentation_1/vertical_flip: True\n",
            "image_augmentation_1/rotation_factor: 0.0\n",
            "image_augmentation_1/zoom_factor: 0.0\n",
            "image_augmentation_1/contrast_factor: 0.0\n",
            "image_augmentation_2/translation_factor: 0.0\n",
            "image_augmentation_2/horizontal_flip: True\n",
            "image_augmentation_2/vertical_flip: True\n",
            "image_augmentation_2/rotation_factor: 0.0\n",
            "image_augmentation_2/zoom_factor: 0.0\n",
            "image_augmentation_2/contrast_factor: 0.0\n",
            "conv_block_1/kernel_size: 3\n",
            "conv_block_1/separable: False\n",
            "conv_block_1/max_pooling: True\n",
            "conv_block_1/dropout: 0\n",
            "conv_block_1/num_blocks: 2\n",
            "conv_block_1/num_layers: 1\n",
            "conv_block_1/filters_0_0: 512\n",
            "conv_block_1/filters_1_0: 32\n",
            "conv_block_2/kernel_size: 3\n",
            "conv_block_2/separable: False\n",
            "conv_block_2/max_pooling: True\n",
            "conv_block_2/dropout: 0\n",
            "conv_block_2/num_blocks: 2\n",
            "conv_block_2/num_layers: 1\n",
            "conv_block_2/filters_0_0: 32\n",
            "conv_block_2/filters_1_0: 32\n",
            "conv_block_3/kernel_size: 3\n",
            "conv_block_3/separable: False\n",
            "conv_block_3/max_pooling: True\n",
            "conv_block_3/dropout: 0\n",
            "conv_block_3/num_blocks: 2\n",
            "conv_block_3/num_layers: 1\n",
            "conv_block_3/filters_0_0: 32\n",
            "conv_block_3/filters_1_0: 32\n",
            "conv_block_4/kernel_size: 3\n",
            "conv_block_4/separable: False\n",
            "conv_block_4/max_pooling: True\n",
            "conv_block_4/dropout: 0\n",
            "conv_block_4/num_blocks: 2\n",
            "conv_block_4/num_layers: 1\n",
            "conv_block_4/filters_0_0: 32\n",
            "conv_block_4/filters_1_0: 32\n",
            "merge_1/merge_type: add\n",
            "classification_head_1/dropout: 0\n",
            "optimizer: adam\n",
            "learning_rate: 0.001\n",
            "Score: 1.2851499319076538\n",
            "Trial summary\n",
            "Hyperparameters:\n",
            "image_augmentation_1/translation_factor: 0.0\n",
            "image_augmentation_1/horizontal_flip: True\n",
            "image_augmentation_1/vertical_flip: True\n",
            "image_augmentation_1/rotation_factor: 0.0\n",
            "image_augmentation_1/zoom_factor: 0.0\n",
            "image_augmentation_1/contrast_factor: 0.0\n",
            "image_augmentation_2/translation_factor: 0.0\n",
            "image_augmentation_2/horizontal_flip: True\n",
            "image_augmentation_2/vertical_flip: True\n",
            "image_augmentation_2/rotation_factor: 0.0\n",
            "image_augmentation_2/zoom_factor: 0.0\n",
            "image_augmentation_2/contrast_factor: 0.0\n",
            "conv_block_1/kernel_size: 3\n",
            "conv_block_1/separable: False\n",
            "conv_block_1/max_pooling: True\n",
            "conv_block_1/dropout: 0\n",
            "conv_block_1/num_blocks: 2\n",
            "conv_block_1/num_layers: 1\n",
            "conv_block_1/filters_0_0: 512\n",
            "conv_block_1/filters_1_0: 32\n",
            "conv_block_2/kernel_size: 3\n",
            "conv_block_2/separable: False\n",
            "conv_block_2/max_pooling: True\n",
            "conv_block_2/dropout: 0\n",
            "conv_block_2/num_blocks: 2\n",
            "conv_block_2/num_layers: 1\n",
            "conv_block_2/filters_0_0: 32\n",
            "conv_block_2/filters_1_0: 32\n",
            "conv_block_3/kernel_size: 3\n",
            "conv_block_3/separable: False\n",
            "conv_block_3/max_pooling: True\n",
            "conv_block_3/dropout: 0\n",
            "conv_block_3/num_blocks: 2\n",
            "conv_block_3/num_layers: 1\n",
            "conv_block_3/filters_0_0: 32\n",
            "conv_block_3/filters_1_0: 32\n",
            "conv_block_4/kernel_size: 3\n",
            "conv_block_4/separable: False\n",
            "conv_block_4/max_pooling: True\n",
            "conv_block_4/dropout: 0\n",
            "conv_block_4/num_blocks: 2\n",
            "conv_block_4/num_layers: 1\n",
            "conv_block_4/filters_0_0: 32\n",
            "conv_block_4/filters_1_0: 32\n",
            "merge_1/merge_type: add\n",
            "classification_head_1/dropout: 0.0\n",
            "optimizer: adam\n",
            "learning_rate: 0.001\n",
            "Score: 1.313732624053955\n"
          ]
        }
      ]
    },
    {
      "cell_type": "code",
      "metadata": {
        "colab": {
          "base_uri": "https://localhost:8080/"
        },
        "id": "7Zx_is2SGY1h",
        "outputId": "70d968e9-4258-4b02-d46e-f34c93965ee8"
      },
      "source": [
        "#Retrieve best model\n",
        "best_model = clf.export_model()\n",
        "best_model.summary()"
      ],
      "execution_count": 24,
      "outputs": [
        {
          "output_type": "stream",
          "name": "stdout",
          "text": [
            "Model: \"functional_1\"\n",
            "__________________________________________________________________________________________________\n",
            "Layer (type)                    Output Shape         Param #     Connected to                     \n",
            "==================================================================================================\n",
            "input_1 (InputLayer)            [(None, 32, 32, 3)]  0                                            \n",
            "__________________________________________________________________________________________________\n",
            "cast_to_float32 (CastToFloat32) (None, 32, 32, 3)    0           input_1[0][0]                    \n",
            "__________________________________________________________________________________________________\n",
            "normalization_1 (Normalization) (None, 32, 32, 3)    7           cast_to_float32[0][0]            \n",
            "__________________________________________________________________________________________________\n",
            "random_flip_1 (RandomFlip)      (None, 32, 32, 3)    0           normalization_1[0][0]            \n",
            "__________________________________________________________________________________________________\n",
            "conv2d_2 (Conv2D)               (None, 30, 30, 32)   896         random_flip_1[0][0]              \n",
            "__________________________________________________________________________________________________\n",
            "max_pooling2d_2 (MaxPooling2D)  (None, 15, 15, 32)   0           conv2d_2[0][0]                   \n",
            "__________________________________________________________________________________________________\n",
            "conv2d_3 (Conv2D)               (None, 13, 13, 32)   9248        max_pooling2d_2[0][0]            \n",
            "__________________________________________________________________________________________________\n",
            "max_pooling2d_3 (MaxPooling2D)  (None, 6, 6, 32)     0           conv2d_3[0][0]                   \n",
            "__________________________________________________________________________________________________\n",
            "normalization (Normalization)   (None, 32, 32, 3)    7           cast_to_float32[0][0]            \n",
            "__________________________________________________________________________________________________\n",
            "normalization_2 (Normalization) (None, 6, 6, 32)     65          max_pooling2d_3[0][0]            \n",
            "__________________________________________________________________________________________________\n",
            "normalization_3 (Normalization) (None, 6, 6, 32)     65          max_pooling2d_3[0][0]            \n",
            "__________________________________________________________________________________________________\n",
            "random_flip (RandomFlip)        (None, 32, 32, 3)    0           normalization[0][0]              \n",
            "__________________________________________________________________________________________________\n",
            "conv2d_4 (Conv2D)               (None, 4, 4, 32)     9248        normalization_2[0][0]            \n",
            "__________________________________________________________________________________________________\n",
            "conv2d_6 (Conv2D)               (None, 6, 6, 32)     25632       normalization_3[0][0]            \n",
            "__________________________________________________________________________________________________\n",
            "conv2d (Conv2D)                 (None, 30, 30, 512)  14336       random_flip[0][0]                \n",
            "__________________________________________________________________________________________________\n",
            "max_pooling2d_4 (MaxPooling2D)  (None, 2, 2, 32)     0           conv2d_4[0][0]                   \n",
            "__________________________________________________________________________________________________\n",
            "max_pooling2d_6 (MaxPooling2D)  (None, 2, 2, 32)     0           conv2d_6[0][0]                   \n",
            "__________________________________________________________________________________________________\n",
            "max_pooling2d (MaxPooling2D)    (None, 15, 15, 512)  0           conv2d[0][0]                     \n",
            "__________________________________________________________________________________________________\n",
            "conv2d_5 (Conv2D)               (None, 2, 2, 32)     9248        max_pooling2d_4[0][0]            \n",
            "__________________________________________________________________________________________________\n",
            "conv2d_7 (Conv2D)               (None, 2, 2, 32)     25632       max_pooling2d_6[0][0]            \n",
            "__________________________________________________________________________________________________\n",
            "conv2d_1 (Conv2D)               (None, 13, 13, 32)   147488      max_pooling2d[0][0]              \n",
            "__________________________________________________________________________________________________\n",
            "max_pooling2d_5 (MaxPooling2D)  (None, 1, 1, 32)     0           conv2d_5[0][0]                   \n",
            "__________________________________________________________________________________________________\n",
            "max_pooling2d_7 (MaxPooling2D)  (None, 1, 1, 32)     0           conv2d_7[0][0]                   \n",
            "__________________________________________________________________________________________________\n",
            "max_pooling2d_1 (MaxPooling2D)  (None, 6, 6, 32)     0           conv2d_1[0][0]                   \n",
            "__________________________________________________________________________________________________\n",
            "flatten (Flatten)               (None, 32)           0           max_pooling2d_5[0][0]            \n",
            "__________________________________________________________________________________________________\n",
            "flatten_1 (Flatten)             (None, 32)           0           max_pooling2d_7[0][0]            \n",
            "__________________________________________________________________________________________________\n",
            "flatten_2 (Flatten)             (None, 1152)         0           max_pooling2d_1[0][0]            \n",
            "__________________________________________________________________________________________________\n",
            "add (Add)                       (None, 32)           0           flatten[0][0]                    \n",
            "                                                                 flatten_1[0][0]                  \n",
            "__________________________________________________________________________________________________\n",
            "concatenate (Concatenate)       (None, 1184)         0           flatten_2[0][0]                  \n",
            "                                                                 add[0][0]                        \n",
            "__________________________________________________________________________________________________\n",
            "dense (Dense)                   (None, 10)           11850       concatenate[0][0]                \n",
            "__________________________________________________________________________________________________\n",
            "classification_head_1 (Softmax) (None, 10)           0           dense[0][0]                      \n",
            "==================================================================================================\n",
            "Total params: 253,722\n",
            "Trainable params: 253,578\n",
            "Non-trainable params: 144\n",
            "__________________________________________________________________________________________________\n"
          ]
        }
      ]
    },
    {
      "cell_type": "code",
      "metadata": {
        "id": "GD1CcNsteJH9",
        "colab": {
          "base_uri": "https://localhost:8080/",
          "height": 1000
        },
        "outputId": "5a571ed5-5f88-4ba8-c5c2-9f1ab7d63594"
      },
      "source": [
        "# Converts a Keras model to dot format and plot an image\n",
        "tf.keras.utils.plot_model(best_model, show_layer_names=False, show_shapes=True, expand_nested=True, dpi=64)"
      ],
      "execution_count": 25,
      "outputs": [
        {
          "output_type": "execute_result",
          "data": {
            "image/png": "[encoded data removed]",
            "text/plain": [
              "<IPython.core.display.Image object>"
            ]
          },
          "metadata": {},
          "execution_count": 25
        }
      ]
    },
    {
      "cell_type": "markdown",
      "metadata": {
        "id": "e6S1h3JnV2Hi"
      },
      "source": [
        "## Retrain and evaluate searched model"
      ]
    },
    {
      "cell_type": "code",
      "metadata": {
        "id": "Dvqr_JvCrNi2",
        "colab": {
          "base_uri": "https://localhost:8080/"
        },
        "outputId": "e232ce27-063e-4fff-a01b-aefd6b28d840"
      },
      "source": [
        "# compile the model and train the model\n",
        "best_model.compile(optimizer='adam',\n",
        "              loss=tf.keras.losses.SparseCategoricalCrossentropy(),\n",
        "              metrics=['accuracy'])\n",
        "best_model.fit(x_train, y_train, epochs=10, batch_size=64, validation_split=0.10)"
      ],
      "execution_count": 26,
      "outputs": [
        {
          "output_type": "stream",
          "name": "stdout",
          "text": [
            "Epoch 1/10\n",
            "704/704 [==============================] - 7s 10ms/step - loss: 1.0530 - accuracy: 0.6255 - val_loss: 0.9739 - val_accuracy: 0.6518\n",
            "Epoch 2/10\n",
            "704/704 [==============================] - 7s 10ms/step - loss: 1.0033 - accuracy: 0.6454 - val_loss: 1.0026 - val_accuracy: 0.6390\n",
            "Epoch 3/10\n",
            "704/704 [==============================] - 7s 10ms/step - loss: 0.9675 - accuracy: 0.6574 - val_loss: 0.9342 - val_accuracy: 0.6760\n",
            "Epoch 4/10\n",
            "704/704 [==============================] - 7s 10ms/step - loss: 0.9375 - accuracy: 0.6695 - val_loss: 0.9182 - val_accuracy: 0.6786\n",
            "Epoch 5/10\n",
            "704/704 [==============================] - 7s 10ms/step - loss: 0.9071 - accuracy: 0.6772 - val_loss: 0.9137 - val_accuracy: 0.6758\n",
            "Epoch 6/10\n",
            "704/704 [==============================] - 7s 10ms/step - loss: 0.8878 - accuracy: 0.6852 - val_loss: 0.9023 - val_accuracy: 0.6774\n",
            "Epoch 7/10\n",
            "704/704 [==============================] - 7s 10ms/step - loss: 0.8669 - accuracy: 0.6941 - val_loss: 0.8912 - val_accuracy: 0.6828\n",
            "Epoch 8/10\n",
            "704/704 [==============================] - 7s 10ms/step - loss: 0.8473 - accuracy: 0.7002 - val_loss: 0.8896 - val_accuracy: 0.6836\n",
            "Epoch 9/10\n",
            "704/704 [==============================] - 7s 10ms/step - loss: 0.8410 - accuracy: 0.7034 - val_loss: 0.8770 - val_accuracy: 0.6916\n",
            "Epoch 10/10\n",
            "704/704 [==============================] - 7s 10ms/step - loss: 0.8244 - accuracy: 0.7071 - val_loss: 0.8453 - val_accuracy: 0.7066\n"
          ]
        },
        {
          "output_type": "execute_result",
          "data": {
            "text/plain": [
              "<tensorflow.python.keras.callbacks.History at 0x7f622d83c390>"
            ]
          },
          "metadata": {},
          "execution_count": 26
        }
      ]
    },
    {
      "cell_type": "code",
      "metadata": {
        "id": "Ms4MrEcmSLPs"
      },
      "source": [
        "init= 10 "
      ],
      "execution_count": 27,
      "outputs": []
    },
    {
      "cell_type": "code",
      "metadata": {
        "colab": {
          "base_uri": "https://localhost:8080/"
        },
        "id": "8bFfCyuPSLGN",
        "outputId": "077d34f1-f47c-4529-953d-c54f150e68ae"
      },
      "source": [
        "best_model.fit(x_train, y_train, epochs=init+2, batch_size=64, validation_split=0.10, initial_epoch=init)\n",
        "init+=2"
      ],
      "execution_count": 28,
      "outputs": [
        {
          "output_type": "stream",
          "name": "stdout",
          "text": [
            "Epoch 11/12\n",
            "704/704 [==============================] - 7s 10ms/step - loss: 0.8037 - accuracy: 0.7128 - val_loss: 0.8469 - val_accuracy: 0.7016\n",
            "Epoch 12/12\n",
            "704/704 [==============================] - 7s 10ms/step - loss: 0.7946 - accuracy: 0.7193 - val_loss: 0.8524 - val_accuracy: 0.6934\n"
          ]
        }
      ]
    },
    {
      "cell_type": "markdown",
      "metadata": {
        "id": "TFRe0zBOfSIz"
      },
      "source": [
        "#### Evaluate the searched model"
      ]
    },
    {
      "cell_type": "code",
      "metadata": {
        "id": "0x3nXzAxrVSf",
        "colab": {
          "base_uri": "https://localhost:8080/"
        },
        "outputId": "bd500422-288b-4e6c-98ee-863e3111cf0d"
      },
      "source": [
        "# evaluate the model\n",
        "test_loss, test_acc = best_model.evaluate(x_test, y_test, verbose=1)\n",
        "print('Test loss: ', test_loss)\n",
        "print('Test accuracy: ', test_acc)"
      ],
      "execution_count": 29,
      "outputs": [
        {
          "output_type": "stream",
          "name": "stdout",
          "text": [
            "313/313 [==============================] - 1s 3ms/step - loss: 0.8916 - accuracy: 0.6809\n",
            "Test loss:  0.8915851712226868\n",
            "Test accuracy:  0.680899977684021\n"
          ]
        }
      ]
    },
    {
      "cell_type": "code",
      "metadata": {
        "id": "td5dMJM-Vd-4"
      },
      "source": [
        ""
      ],
      "execution_count": null,
      "outputs": []
    }
  ]
}
